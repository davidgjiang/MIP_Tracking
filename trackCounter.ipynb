{
 "cells": [
  {
   "cell_type": "code",
   "execution_count": 27,
   "metadata": {},
   "outputs": [],
   "source": [
    "import uproot\n",
    "import numpy as np\n",
    "import awkward\n",
    "import concurrent.futures\n",
    "import math\n",
    "import collections"
   ]
  },
  {
   "cell_type": "code",
   "execution_count": 61,
   "metadata": {},
   "outputs": [],
   "source": [
    "'''LOAD THE FILE AND ITS CONTENTS'''\n",
    "\n",
    "filename = 'output_files_total/0.01_trigger_BDT_RoC_hough.root'\n",
    "\n",
    "branches = ['ax','ay','az','bx','by','bz','nlines','hitX','hitY','hitZ','pdgID','pdg_assoc','distFromETraj','distFromPTraj', 'x_assoc', 'y_assoc','z_assoc']\n",
    "\n",
    "t = uproot.open(filename)['Events']\n",
    "table = t.arrays(expressions=branches)\n",
    "\n",
    "tree = {}\n",
    "for branch in branches:\n",
    "    tree[branch] = table[branch]"
   ]
  },
  {
   "cell_type": "code",
   "execution_count": 62,
   "metadata": {},
   "outputs": [],
   "source": [
    "'''COUNT THE NUMBER OF TRACKS PER EVENT'''\n",
    "trackCounter = np.array(tree['nlines']) \n",
    "\n",
    "'''LOAD LAYER INFORMATION AND CONSTRUCT VARIABLE ARRAYS'''\n",
    "layer_dz = np.array([7.850, 13.300, 26.400, 33.500, 47.950, 56.550, 72.250, 81.350, 97.050, 106.150,\n",
    "            121.850, 130.950, 146.650, 155.750, 171.450, 180.550, 196.250, 205.350, 221.050,\n",
    "            230.150, 245.850, 254.950, 270.650, 279.750, 298.950, 311.550, 330.750, 343.350,\n",
    "            362.550, 375.150, 394.350, 406.950, 426.150, 438.750])\n",
    "\n",
    "layer_z = 240.5 + layer_dz\n",
    "\n",
    "fracLayers = []\n",
    "inARow = []\n",
    "numGaps = []\n"
   ]
  },
  {
   "cell_type": "code",
   "execution_count": 63,
   "metadata": {},
   "outputs": [],
   "source": [
    "# 1. Fraction Layers with Multiple Hits -> Eliminate Tracks with Fraction > 0\n",
    "for event in range(len(tree['z_assoc'])):\n",
    "\n",
    "    fractions = []\n",
    "    for track in range(len(tree['z_assoc'][event])):\n",
    "        layers = sorted(tree['z_assoc'][event][track])\n",
    "        start = 0\n",
    "        # find the index of which ECal layer to start from\n",
    "        for i in range(len(layer_z)):\n",
    "            if abs(layer_z[i] - layers[0]) < 0.01:\n",
    "                start = i\n",
    "                break\n",
    "        end = 0\n",
    "        # find the index of which ECal layer to end from\n",
    "        for j in range(len(layer_z)):\n",
    "            if abs(layer_z[j] - layers[-1]) < 0.01:\n",
    "                end = j\n",
    "                break\n",
    "        # find the number of layers from start to end\n",
    "        interval = end - start + 1\n",
    "\n",
    "        # list of layer z positions that have more than 1 hit in the track\n",
    "        repeatedZs = [z for z,count in collections.Counter(tree['z_assoc'][event][track]).items() if count > 1]\n",
    "        \n",
    "        # fraction of layers with multiple hits\n",
    "        fraction = len(repeatedZs)/interval\n",
    "        fractions.append(fraction)\n",
    "\n",
    "    fracLayers.append(fractions)  "
   ]
  },
  {
   "cell_type": "code",
   "execution_count": 64,
   "metadata": {},
   "outputs": [],
   "source": [
    "# 2. Number of Layers in a Row with a Single Hit -> Eliminate Tracks with Layers < 3\n",
    "for event in range(len(tree['z_assoc'])):\n",
    "\n",
    "    maximums = []\n",
    "    for track in range(len(tree['z_assoc'][event])):\n",
    "        # list of layer z positions that have more than 1 hit in the track\n",
    "        repeatedZs = [z for z,count in collections.Counter(tree['z_assoc'][event][track]).items() if count > 1]\n",
    "        counter = 0\n",
    "        maximum = 0\n",
    "        hitZ = sorted((tree['z_assoc'][event][track]))\n",
    "        for hit in hitZ: \n",
    "            if not(hit in repeatedZs):\n",
    "                counter += 1\n",
    "                if (counter > maximum):\n",
    "                    maximum = counter \n",
    "            elif (hit in repeatedZs and counter > maximum):\n",
    "                maximum = counter\n",
    "                counter = 0\n",
    "            else:\n",
    "                counter = 0\n",
    "        \n",
    "        maximums.append(maximum)\n",
    "    \n",
    "    inARow.append(maximums)"
   ]
  },
  {
   "cell_type": "code",
   "execution_count": 65,
   "metadata": {},
   "outputs": [],
   "source": [
    "# 3. Number of Layer Gaps -> Eliminate Tracks with Number of Layer Gaps > 1\n",
    "for event in range(len(tree['z_assoc'])):\n",
    "    \n",
    "    gaps = []\n",
    "    for track in range(len(tree['z_assoc'][event])):\n",
    "        hitZ = sorted((tree['z_assoc'][event][track]))\n",
    "        trackLayers = sorted([*set(hitZ)])\n",
    "        #print(\"trackLayers: {}\".format(trackLayers))\n",
    "        \n",
    "        start = 0\n",
    "        # find the index of which ECal layer to start from\n",
    "        for i in range(len(layer_z)):\n",
    "            if abs(layer_z[i] - trackLayers[0]) < 0.01:\n",
    "                start = i\n",
    "                break\n",
    "        end = 0\n",
    "        # find the index of which ECal layer to end from\n",
    "        for j in range(len(layer_z)):\n",
    "            if abs(layer_z[j] - trackLayers[-1]) < 0.01:\n",
    "                end = j\n",
    "                break\n",
    "        # find the number of layers from start to end\n",
    "        interval = end - start + 1\n",
    "        gap = interval - len(trackLayers)\n",
    "        gaps.append(gap)\n",
    "    \n",
    "    numGaps.append(gaps)"
   ]
  },
  {
   "cell_type": "code",
   "execution_count": 66,
   "metadata": {},
   "outputs": [],
   "source": [
    "'''IMPLEMENT CUTS ON THE SIGNAL TRACKS'''\n",
    "for event in range(len(tree['nlines'])):\n",
    "    for track in range(len(fracLayers[event])):\n",
    "        if (fracLayers[event][track] > 0.4 or inARow[event][track] == 0 or numGaps[event][track] > 4):\n",
    "            trackCounter[event] -= 1\n"
   ]
  },
  {
   "cell_type": "code",
   "execution_count": 67,
   "metadata": {},
   "outputs": [
    {
     "name": "stdout",
     "output_type": "stream",
     "text": [
      "Number of signal events with a track found: 151920\n"
     ]
    }
   ],
   "source": [
    "'''CHECK HOW MANY SIGNAL EVENTS HAVE TRACKS'''\n",
    "counter = 0\n",
    "for element in trackCounter:\n",
    "    if element != 0:\n",
    "        counter += 1\n",
    "print(\"Number of signal events with a track found: {}\".format(counter))"
   ]
  },
  {
   "cell_type": "code",
   "execution_count": 60,
   "metadata": {},
   "outputs": [
    {
     "name": "stdout",
     "output_type": "stream",
     "text": [
      "133513\n"
     ]
    }
   ],
   "source": [
    "print(sum(trackCounter))"
   ]
  }
 ],
 "metadata": {
  "kernelspec": {
   "display_name": "Python 3.8.5 ('base')",
   "language": "python",
   "name": "python3"
  },
  "language_info": {
   "codemirror_mode": {
    "name": "ipython",
    "version": 3
   },
   "file_extension": ".py",
   "mimetype": "text/x-python",
   "name": "python",
   "nbconvert_exporter": "python",
   "pygments_lexer": "ipython3",
   "version": "3.8.5"
  },
  "orig_nbformat": 4,
  "vscode": {
   "interpreter": {
    "hash": "00797aeb65c0fcee01712f65908ca620cd9ba7fea561defde96507d75212ab0d"
   }
  }
 },
 "nbformat": 4,
 "nbformat_minor": 2
}
