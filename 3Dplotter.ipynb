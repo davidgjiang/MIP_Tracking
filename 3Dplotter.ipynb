{
 "cells": [
  {
   "cell_type": "code",
   "execution_count": 9,
   "metadata": {},
   "outputs": [],
   "source": [
    "import uproot\n",
    "import numpy as np\n",
    "import awkward\n",
    "import concurrent.futures\n",
    "import matplotlib.pyplot as plt\n",
    "from mpl_toolkits.mplot3d import Axes3D\n",
    "import math\n",
    "import plotly.graph_objects as go\n",
    "import plotly.express as px\n",
    "import copy\n",
    "import pandas as pd"
   ]
  },
  {
   "cell_type": "code",
   "execution_count": 2,
   "metadata": {},
   "outputs": [
    {
     "data": {
      "application/vnd.plotly.v1+json": {
       "config": {
        "plotlyServerURL": "https://plot.ly"
       },
       "data": [
        {
         "hovertemplate": "color=a<br>X=%{x}<br>Y=%{y}<br>Z=%{z}<extra></extra>",
         "legendgroup": "a",
         "line": {
          "color": "#636efa",
          "dash": "solid"
         },
         "marker": {
          "symbol": "circle"
         },
         "mode": "lines",
         "name": "a",
         "scene": "scene",
         "showlegend": true,
         "type": "scatter3d",
         "x": [
          0,
          1,
          2,
          3
         ],
         "y": [
          0,
          2,
          3,
          1
         ],
         "z": [
          0,
          3,
          1,
          2
         ]
        },
        {
         "hovertemplate": "color=b<br>X=%{x}<br>Y=%{y}<br>Z=%{z}<extra></extra>",
         "legendgroup": "b",
         "line": {
          "color": "#EF553B",
          "dash": "solid"
         },
         "marker": {
          "symbol": "circle"
         },
         "mode": "lines",
         "name": "b",
         "scene": "scene",
         "showlegend": true,
         "type": "scatter3d",
         "x": [
          1,
          4
         ],
         "y": [
          1,
          2
         ],
         "z": [
          1,
          3
         ]
        },
        {
         "mode": "markers",
         "type": "scatter3d",
         "x": [
          0,
          2,
          3
         ],
         "y": [
          0,
          1,
          3
         ],
         "z": [
          0,
          1,
          2
         ]
        }
       ],
       "layout": {
        "legend": {
         "title": {
          "text": "color"
         },
         "tracegroupgap": 0
        },
        "margin": {
         "t": 60
        },
        "scene": {
         "domain": {
          "x": [
           0,
           1
          ],
          "y": [
           0,
           1
          ]
         },
         "xaxis": {
          "title": {
           "text": "X"
          }
         },
         "yaxis": {
          "title": {
           "text": "Y"
          }
         },
         "zaxis": {
          "title": {
           "text": "Z"
          }
         }
        },
        "template": {
         "data": {
          "bar": [
           {
            "error_x": {
             "color": "#2a3f5f"
            },
            "error_y": {
             "color": "#2a3f5f"
            },
            "marker": {
             "line": {
              "color": "#E5ECF6",
              "width": 0.5
             },
             "pattern": {
              "fillmode": "overlay",
              "size": 10,
              "solidity": 0.2
             }
            },
            "type": "bar"
           }
          ],
          "barpolar": [
           {
            "marker": {
             "line": {
              "color": "#E5ECF6",
              "width": 0.5
             },
             "pattern": {
              "fillmode": "overlay",
              "size": 10,
              "solidity": 0.2
             }
            },
            "type": "barpolar"
           }
          ],
          "carpet": [
           {
            "aaxis": {
             "endlinecolor": "#2a3f5f",
             "gridcolor": "white",
             "linecolor": "white",
             "minorgridcolor": "white",
             "startlinecolor": "#2a3f5f"
            },
            "baxis": {
             "endlinecolor": "#2a3f5f",
             "gridcolor": "white",
             "linecolor": "white",
             "minorgridcolor": "white",
             "startlinecolor": "#2a3f5f"
            },
            "type": "carpet"
           }
          ],
          "choropleth": [
           {
            "colorbar": {
             "outlinewidth": 0,
             "ticks": ""
            },
            "type": "choropleth"
           }
          ],
          "contour": [
           {
            "colorbar": {
             "outlinewidth": 0,
             "ticks": ""
            },
            "colorscale": [
             [
              0,
              "#0d0887"
             ],
             [
              0.1111111111111111,
              "#46039f"
             ],
             [
              0.2222222222222222,
              "#7201a8"
             ],
             [
              0.3333333333333333,
              "#9c179e"
             ],
             [
              0.4444444444444444,
              "#bd3786"
             ],
             [
              0.5555555555555556,
              "#d8576b"
             ],
             [
              0.6666666666666666,
              "#ed7953"
             ],
             [
              0.7777777777777778,
              "#fb9f3a"
             ],
             [
              0.8888888888888888,
              "#fdca26"
             ],
             [
              1,
              "#f0f921"
             ]
            ],
            "type": "contour"
           }
          ],
          "contourcarpet": [
           {
            "colorbar": {
             "outlinewidth": 0,
             "ticks": ""
            },
            "type": "contourcarpet"
           }
          ],
          "heatmap": [
           {
            "colorbar": {
             "outlinewidth": 0,
             "ticks": ""
            },
            "colorscale": [
             [
              0,
              "#0d0887"
             ],
             [
              0.1111111111111111,
              "#46039f"
             ],
             [
              0.2222222222222222,
              "#7201a8"
             ],
             [
              0.3333333333333333,
              "#9c179e"
             ],
             [
              0.4444444444444444,
              "#bd3786"
             ],
             [
              0.5555555555555556,
              "#d8576b"
             ],
             [
              0.6666666666666666,
              "#ed7953"
             ],
             [
              0.7777777777777778,
              "#fb9f3a"
             ],
             [
              0.8888888888888888,
              "#fdca26"
             ],
             [
              1,
              "#f0f921"
             ]
            ],
            "type": "heatmap"
           }
          ],
          "heatmapgl": [
           {
            "colorbar": {
             "outlinewidth": 0,
             "ticks": ""
            },
            "colorscale": [
             [
              0,
              "#0d0887"
             ],
             [
              0.1111111111111111,
              "#46039f"
             ],
             [
              0.2222222222222222,
              "#7201a8"
             ],
             [
              0.3333333333333333,
              "#9c179e"
             ],
             [
              0.4444444444444444,
              "#bd3786"
             ],
             [
              0.5555555555555556,
              "#d8576b"
             ],
             [
              0.6666666666666666,
              "#ed7953"
             ],
             [
              0.7777777777777778,
              "#fb9f3a"
             ],
             [
              0.8888888888888888,
              "#fdca26"
             ],
             [
              1,
              "#f0f921"
             ]
            ],
            "type": "heatmapgl"
           }
          ],
          "histogram": [
           {
            "marker": {
             "pattern": {
              "fillmode": "overlay",
              "size": 10,
              "solidity": 0.2
             }
            },
            "type": "histogram"
           }
          ],
          "histogram2d": [
           {
            "colorbar": {
             "outlinewidth": 0,
             "ticks": ""
            },
            "colorscale": [
             [
              0,
              "#0d0887"
             ],
             [
              0.1111111111111111,
              "#46039f"
             ],
             [
              0.2222222222222222,
              "#7201a8"
             ],
             [
              0.3333333333333333,
              "#9c179e"
             ],
             [
              0.4444444444444444,
              "#bd3786"
             ],
             [
              0.5555555555555556,
              "#d8576b"
             ],
             [
              0.6666666666666666,
              "#ed7953"
             ],
             [
              0.7777777777777778,
              "#fb9f3a"
             ],
             [
              0.8888888888888888,
              "#fdca26"
             ],
             [
              1,
              "#f0f921"
             ]
            ],
            "type": "histogram2d"
           }
          ],
          "histogram2dcontour": [
           {
            "colorbar": {
             "outlinewidth": 0,
             "ticks": ""
            },
            "colorscale": [
             [
              0,
              "#0d0887"
             ],
             [
              0.1111111111111111,
              "#46039f"
             ],
             [
              0.2222222222222222,
              "#7201a8"
             ],
             [
              0.3333333333333333,
              "#9c179e"
             ],
             [
              0.4444444444444444,
              "#bd3786"
             ],
             [
              0.5555555555555556,
              "#d8576b"
             ],
             [
              0.6666666666666666,
              "#ed7953"
             ],
             [
              0.7777777777777778,
              "#fb9f3a"
             ],
             [
              0.8888888888888888,
              "#fdca26"
             ],
             [
              1,
              "#f0f921"
             ]
            ],
            "type": "histogram2dcontour"
           }
          ],
          "mesh3d": [
           {
            "colorbar": {
             "outlinewidth": 0,
             "ticks": ""
            },
            "type": "mesh3d"
           }
          ],
          "parcoords": [
           {
            "line": {
             "colorbar": {
              "outlinewidth": 0,
              "ticks": ""
             }
            },
            "type": "parcoords"
           }
          ],
          "pie": [
           {
            "automargin": true,
            "type": "pie"
           }
          ],
          "scatter": [
           {
            "fillpattern": {
             "fillmode": "overlay",
             "size": 10,
             "solidity": 0.2
            },
            "type": "scatter"
           }
          ],
          "scatter3d": [
           {
            "line": {
             "colorbar": {
              "outlinewidth": 0,
              "ticks": ""
             }
            },
            "marker": {
             "colorbar": {
              "outlinewidth": 0,
              "ticks": ""
             }
            },
            "type": "scatter3d"
           }
          ],
          "scattercarpet": [
           {
            "marker": {
             "colorbar": {
              "outlinewidth": 0,
              "ticks": ""
             }
            },
            "type": "scattercarpet"
           }
          ],
          "scattergeo": [
           {
            "marker": {
             "colorbar": {
              "outlinewidth": 0,
              "ticks": ""
             }
            },
            "type": "scattergeo"
           }
          ],
          "scattergl": [
           {
            "marker": {
             "colorbar": {
              "outlinewidth": 0,
              "ticks": ""
             }
            },
            "type": "scattergl"
           }
          ],
          "scattermapbox": [
           {
            "marker": {
             "colorbar": {
              "outlinewidth": 0,
              "ticks": ""
             }
            },
            "type": "scattermapbox"
           }
          ],
          "scatterpolar": [
           {
            "marker": {
             "colorbar": {
              "outlinewidth": 0,
              "ticks": ""
             }
            },
            "type": "scatterpolar"
           }
          ],
          "scatterpolargl": [
           {
            "marker": {
             "colorbar": {
              "outlinewidth": 0,
              "ticks": ""
             }
            },
            "type": "scatterpolargl"
           }
          ],
          "scatterternary": [
           {
            "marker": {
             "colorbar": {
              "outlinewidth": 0,
              "ticks": ""
             }
            },
            "type": "scatterternary"
           }
          ],
          "surface": [
           {
            "colorbar": {
             "outlinewidth": 0,
             "ticks": ""
            },
            "colorscale": [
             [
              0,
              "#0d0887"
             ],
             [
              0.1111111111111111,
              "#46039f"
             ],
             [
              0.2222222222222222,
              "#7201a8"
             ],
             [
              0.3333333333333333,
              "#9c179e"
             ],
             [
              0.4444444444444444,
              "#bd3786"
             ],
             [
              0.5555555555555556,
              "#d8576b"
             ],
             [
              0.6666666666666666,
              "#ed7953"
             ],
             [
              0.7777777777777778,
              "#fb9f3a"
             ],
             [
              0.8888888888888888,
              "#fdca26"
             ],
             [
              1,
              "#f0f921"
             ]
            ],
            "type": "surface"
           }
          ],
          "table": [
           {
            "cells": {
             "fill": {
              "color": "#EBF0F8"
             },
             "line": {
              "color": "white"
             }
            },
            "header": {
             "fill": {
              "color": "#C8D4E3"
             },
             "line": {
              "color": "white"
             }
            },
            "type": "table"
           }
          ]
         },
         "layout": {
          "annotationdefaults": {
           "arrowcolor": "#2a3f5f",
           "arrowhead": 0,
           "arrowwidth": 1
          },
          "autotypenumbers": "strict",
          "coloraxis": {
           "colorbar": {
            "outlinewidth": 0,
            "ticks": ""
           }
          },
          "colorscale": {
           "diverging": [
            [
             0,
             "#8e0152"
            ],
            [
             0.1,
             "#c51b7d"
            ],
            [
             0.2,
             "#de77ae"
            ],
            [
             0.3,
             "#f1b6da"
            ],
            [
             0.4,
             "#fde0ef"
            ],
            [
             0.5,
             "#f7f7f7"
            ],
            [
             0.6,
             "#e6f5d0"
            ],
            [
             0.7,
             "#b8e186"
            ],
            [
             0.8,
             "#7fbc41"
            ],
            [
             0.9,
             "#4d9221"
            ],
            [
             1,
             "#276419"
            ]
           ],
           "sequential": [
            [
             0,
             "#0d0887"
            ],
            [
             0.1111111111111111,
             "#46039f"
            ],
            [
             0.2222222222222222,
             "#7201a8"
            ],
            [
             0.3333333333333333,
             "#9c179e"
            ],
            [
             0.4444444444444444,
             "#bd3786"
            ],
            [
             0.5555555555555556,
             "#d8576b"
            ],
            [
             0.6666666666666666,
             "#ed7953"
            ],
            [
             0.7777777777777778,
             "#fb9f3a"
            ],
            [
             0.8888888888888888,
             "#fdca26"
            ],
            [
             1,
             "#f0f921"
            ]
           ],
           "sequentialminus": [
            [
             0,
             "#0d0887"
            ],
            [
             0.1111111111111111,
             "#46039f"
            ],
            [
             0.2222222222222222,
             "#7201a8"
            ],
            [
             0.3333333333333333,
             "#9c179e"
            ],
            [
             0.4444444444444444,
             "#bd3786"
            ],
            [
             0.5555555555555556,
             "#d8576b"
            ],
            [
             0.6666666666666666,
             "#ed7953"
            ],
            [
             0.7777777777777778,
             "#fb9f3a"
            ],
            [
             0.8888888888888888,
             "#fdca26"
            ],
            [
             1,
             "#f0f921"
            ]
           ]
          },
          "colorway": [
           "#636efa",
           "#EF553B",
           "#00cc96",
           "#ab63fa",
           "#FFA15A",
           "#19d3f3",
           "#FF6692",
           "#B6E880",
           "#FF97FF",
           "#FECB52"
          ],
          "font": {
           "color": "#2a3f5f"
          },
          "geo": {
           "bgcolor": "white",
           "lakecolor": "white",
           "landcolor": "#E5ECF6",
           "showlakes": true,
           "showland": true,
           "subunitcolor": "white"
          },
          "hoverlabel": {
           "align": "left"
          },
          "hovermode": "closest",
          "mapbox": {
           "style": "light"
          },
          "paper_bgcolor": "white",
          "plot_bgcolor": "#E5ECF6",
          "polar": {
           "angularaxis": {
            "gridcolor": "white",
            "linecolor": "white",
            "ticks": ""
           },
           "bgcolor": "#E5ECF6",
           "radialaxis": {
            "gridcolor": "white",
            "linecolor": "white",
            "ticks": ""
           }
          },
          "scene": {
           "xaxis": {
            "backgroundcolor": "#E5ECF6",
            "gridcolor": "white",
            "gridwidth": 2,
            "linecolor": "white",
            "showbackground": true,
            "ticks": "",
            "zerolinecolor": "white"
           },
           "yaxis": {
            "backgroundcolor": "#E5ECF6",
            "gridcolor": "white",
            "gridwidth": 2,
            "linecolor": "white",
            "showbackground": true,
            "ticks": "",
            "zerolinecolor": "white"
           },
           "zaxis": {
            "backgroundcolor": "#E5ECF6",
            "gridcolor": "white",
            "gridwidth": 2,
            "linecolor": "white",
            "showbackground": true,
            "ticks": "",
            "zerolinecolor": "white"
           }
          },
          "shapedefaults": {
           "line": {
            "color": "#2a3f5f"
           }
          },
          "ternary": {
           "aaxis": {
            "gridcolor": "white",
            "linecolor": "white",
            "ticks": ""
           },
           "baxis": {
            "gridcolor": "white",
            "linecolor": "white",
            "ticks": ""
           },
           "bgcolor": "#E5ECF6",
           "caxis": {
            "gridcolor": "white",
            "linecolor": "white",
            "ticks": ""
           }
          },
          "title": {
           "x": 0.05
          },
          "xaxis": {
           "automargin": true,
           "gridcolor": "white",
           "linecolor": "white",
           "ticks": "",
           "title": {
            "standoff": 15
           },
           "zerolinecolor": "white",
           "zerolinewidth": 2
          },
          "yaxis": {
           "automargin": true,
           "gridcolor": "white",
           "linecolor": "white",
           "ticks": "",
           "title": {
            "standoff": 15
           },
           "zerolinecolor": "white",
           "zerolinewidth": 2
          }
         }
        }
       }
      }
     },
     "metadata": {},
     "output_type": "display_data"
    }
   ],
   "source": [
    "# Example Code for Creating Lines with Multiple Colors\n",
    "df = pd.DataFrame(dict(\n",
    "    X=[0,1,2,3,1,4], \n",
    "    Y=[0,2,3,1,1,2], \n",
    "    Z=[0,3,1,2,1,3],\n",
    "    color=[\"a\", \"a\", \"a\", \"a\", \"b\", \"b\"]\n",
    "))\n",
    "\n",
    "fig = px.line_3d(df, x='X', y='Y', z='Z', color=\"color\")\n",
    "\n",
    "df2 = {}\n",
    "df2['X'] = [0,2,3]\n",
    "df2['Y'] = [0,1,3]\n",
    "df2['Z'] = [0,1,2]\n",
    "\n",
    "fig.add_trace(go.Scatter3d(x=df2[\"X\"], y=df2[\"Y\"], z=df2['Z'], mode='markers'))\n",
    "fig.show()"
   ]
  },
  {
   "cell_type": "code",
   "execution_count": 15,
   "metadata": {},
   "outputs": [],
   "source": [
    "# LOAD THE DATA #\n",
    "file = 'large-kaons-3hits_hough.root'\n",
    "\n",
    "branches = ['ax','ay','az','bx','by','bz','nlines','hitX','hitY','hitZ','pdgID','pdg_assoc', 'x_assoc','y_assoc','z_assoc',\n",
    "'electronX', 'electronY', 'electronZ', 'photonX', 'photonY', 'photonZ', 'distFromETraj', 'distFromPTraj']\n",
    "\n",
    "t = uproot.open(file)['Events']\n",
    "table = t.arrays(expressions=branches)\n",
    "tree = {}\n",
    "for branch in branches:\n",
    "    tree[branch] = table[branch]"
   ]
  },
  {
   "cell_type": "code",
   "execution_count": 20,
   "metadata": {},
   "outputs": [
    {
     "name": "stdout",
     "output_type": "stream",
     "text": [
      "2\n"
     ]
    }
   ],
   "source": [
    "print(tree['nlines'][500])"
   ]
  },
  {
   "cell_type": "code",
   "execution_count": 51,
   "metadata": {},
   "outputs": [
    {
     "data": {
      "application/vnd.plotly.v1+json": {
       "config": {
        "plotlyServerURL": "https://plot.ly"
       },
       "data": [
        {
         "hovertemplate": "color=track<br>X=%{x}<br>Y=%{y}<br>Z=%{z}<extra></extra>",
         "legendgroup": "track",
         "line": {
          "color": "#636efa",
          "dash": "solid"
         },
         "marker": {
          "symbol": "circle"
         },
         "mode": "lines",
         "name": "track",
         "scene": "scene",
         "showlegend": true,
         "type": "scatter3d",
         "x": [
          0,
          148.2257604598999,
          -148.2257604598999,
          0,
          148.2257604598999,
          -148.2257604598999
         ],
         "y": [
          21.671388149261475,
          47.014040350914,
          -3.6712640523910522,
          21.671388149261475,
          47.014040350914,
          -3.6712640523910522
         ],
         "z": [
          297.84166717529297,
          165.9823408126831,
          429.70099353790283,
          297.84166717529297,
          165.9823408126831,
          429.70099353790283
         ]
        },
        {
         "hovertemplate": "color=electron trajectory<br>X=%{x}<br>Y=%{y}<br>Z=%{z}<extra></extra>",
         "legendgroup": "electron trajectory",
         "line": {
          "color": "#EF553B",
          "dash": "solid"
         },
         "marker": {
          "symbol": "circle"
         },
         "mode": "lines",
         "name": "electron trajectory",
         "scene": "scene",
         "showlegend": true,
         "type": "scatter3d",
         "x": [
          -13.321831703186035,
          -13.622903823852539,
          -14.346582412719727,
          -14.738805770874023,
          -15.53706169128418,
          -16.012147903442383,
          -16.879457473754883,
          -17.382165908813477,
          -18.249475479125977,
          -18.75218391418457,
          -19.61949348449707,
          -20.122201919555664,
          -20.989511489868164,
          -21.492218017578125,
          -22.359527587890625,
          -22.86223602294922,
          -23.72954559326172,
          -24.232254028320312,
          -25.099563598632812,
          -25.602272033691406,
          -26.469581604003906,
          -26.972288131713867,
          -27.839597702026367,
          -28.34230613708496,
          -29.402965545654297,
          -30.099021911621094,
          -31.15968132019043,
          -31.85573959350586,
          -32.91639709472656,
          -33.61245346069336,
          -34.67311477661133,
          -35.369171142578125,
          -36.42982864379883,
          -37.12588882446289
         ],
         "y": [
          8.551087379455566,
          8.56911563873291,
          8.612448692321777,
          8.635934829711914,
          8.683733940124512,
          8.71218204498291,
          8.764115333557129,
          8.794217109680176,
          8.846151351928711,
          8.876253128051758,
          8.928186416625977,
          8.958288192749023,
          9.010222434997559,
          9.040324211120605,
          9.092257499694824,
          9.122359275817871,
          9.174293518066406,
          9.204395294189453,
          9.256328582763672,
          9.286430358886719,
          9.338364601135254,
          9.3684663772583,
          9.420400619506836,
          9.450502395629883,
          9.514013290405273,
          9.555692672729492,
          9.6192045211792,
          9.660883903503418,
          9.724394798278809,
          9.766074180603027,
          9.829586029052734,
          9.871265411376953,
          9.934776306152344,
          9.976455688476562
         ],
         "z": [
          248.3505096435547,
          253.80050659179688,
          266.9005126953125,
          274.00048828125,
          288.45050048828125,
          297.0505065917969,
          312.75048828125,
          321.8504943847656,
          337.5505065917969,
          346.6505126953125,
          362.3504943847656,
          371.45050048828125,
          387.1505126953125,
          396.25048828125,
          411.95050048828125,
          421.0505065917969,
          436.75048828125,
          445.8504943847656,
          461.5505065917969,
          470.6505126953125,
          486.3504943847656,
          495.45050048828125,
          511.1505126953125,
          520.25048828125,
          539.4505004882812,
          552.0504760742188,
          571.25048828125,
          583.8505249023438,
          603.0504760742188,
          615.6505126953125,
          634.8505249023438,
          647.4505004882812,
          666.6505126953125,
          679.25048828125
         ]
        },
        {
         "hovertemplate": "color=photon trajectory<br>X=%{x}<br>Y=%{y}<br>Z=%{z}<extra></extra>",
         "legendgroup": "photon trajectory",
         "line": {
          "color": "#00cc96",
          "dash": "solid"
         },
         "marker": {
          "symbol": "circle"
         },
         "mode": "lines",
         "name": "photon trajectory",
         "scene": "scene",
         "showlegend": true,
         "type": "scatter3d",
         "x": [
          -4.404385566711426,
          -4.399336338043213,
          -4.387199401855469,
          -4.380621433258057,
          -4.367233753204346,
          -4.3592658042907715,
          -4.344720363616943,
          -4.336289405822754,
          -4.321743488311768,
          -4.313312530517578,
          -4.298766613006592,
          -4.290335655212402,
          -4.275789737701416,
          -4.267358779907227,
          -4.25281286239624,
          -4.244381904602051,
          -4.229836463928223,
          -4.221405506134033,
          -4.206859588623047,
          -4.198428630828857,
          -4.183882713317871,
          -4.175451755523682,
          -4.160905838012695,
          -4.152474880218506,
          -4.134686470031738,
          -4.123013019561768,
          -4.105224609375,
          -4.093550682067871,
          -4.0757622718811035,
          -4.064088344573975,
          -4.046299934387207,
          -4.034626483917236,
          -4.016838073730469,
          -4.00516414642334
         ],
         "y": [
          7.807520866394043,
          7.804486274719238,
          7.797191619873047,
          7.793238162994385,
          7.785191535949707,
          7.780402660369873,
          7.771660327911377,
          7.766592979431152,
          7.757850646972656,
          7.752783298492432,
          7.7440409660339355,
          7.738973617553711,
          7.730231285095215,
          7.72516393661499,
          7.716421604156494,
          7.7113542556762695,
          7.702611923217773,
          7.697544574737549,
          7.688802242279053,
          7.683734893798828,
          7.674992561340332,
          7.669925212860107,
          7.661182880401611,
          7.656115531921387,
          7.6454243659973145,
          7.638408184051514,
          7.627716541290283,
          7.620700359344482,
          7.61000919342041,
          7.602993011474609,
          7.592301368713379,
          7.585285186767578,
          7.574594020843506,
          7.567577838897705
         ],
         "z": [
          253.92770385742188,
          259.377685546875,
          272.4776916503906,
          279.57769775390625,
          294.0277099609375,
          302.627685546875,
          318.32769775390625,
          327.4277038574219,
          343.127685546875,
          352.2276916503906,
          367.9277038574219,
          377.0277099609375,
          392.7276916503906,
          401.82769775390625,
          417.5277099609375,
          426.627685546875,
          442.32769775390625,
          451.4277038574219,
          467.127685546875,
          476.2276916503906,
          491.9277038574219,
          501.0277099609375,
          516.7277221679688,
          525.8276977539062,
          545.0277099609375,
          557.627685546875,
          576.8276977539062,
          589.4276733398438,
          608.627685546875,
          621.2277221679688,
          640.4276733398438,
          653.0277099609375,
          672.2277221679688,
          684.8276977539062
         ]
        },
        {
         "hovertemplate": "color=MIP<br>x=%{x}<br>y=%{y}<br>z=%{z}<extra></extra>",
         "legendgroup": "MIP",
         "marker": {
          "color": "#636efa",
          "size": 2,
          "symbol": "circle"
         },
         "mode": "markers",
         "name": "MIP",
         "scene": "scene",
         "showlegend": true,
         "type": "scatter3d",
         "x": [
          58.38924789428711,
          12.511981964111328,
          45.87726593017578
         ],
         "y": [
          33.7110481262207,
          12.039660453796387,
          26.48725128173828
         ],
         "z": [
          248.35000610351562,
          266.8999938964844,
          253.8000030517578
         ]
        },
        {
         "hovertemplate": "color=Other<br>x=%{x}<br>y=%{y}<br>z=%{z}<extra></extra>",
         "legendgroup": "Other",
         "marker": {
          "color": "#EF553B",
          "size": 2,
          "symbol": "circle"
         },
         "mode": "markers",
         "name": "Other",
         "scene": "scene",
         "showlegend": true,
         "type": "scatter3d",
         "x": [
          -29.194623947143555,
          -37.535945892333984,
          -20.853302001953125,
          -45.87726593017578,
          -16.682641983032227,
          4.170660495758057,
          4.170660495758057,
          -4.170660495758057,
          -25.023963928222656,
          -8.341320991516113,
          -110.98741149902344,
          50.04792785644531,
          20.853302001953125,
          29.194623947143555,
          -94.30477142333984,
          98.47543334960938,
          16.682641983032227,
          -16.682641983032227,
          -8.341320991516113,
          -12.511981964111328,
          -25.023963928222656,
          -16.682641983032227,
          -29.194623947143555,
          4.170660495758057,
          -25.023963928222656
         ],
         "y": [
          12.039660453796387,
          40.934844970703125,
          -2.4079320430755615,
          12.039660453796387,
          19.263456344604492,
          -2.4079320430755615,
          -2.4079320430755615,
          12.039660453796387,
          -38.526912689208984,
          19.263456344604492,
          11.104107856750488,
          4.815864086151123,
          26.48725128173828,
          26.48725128173828,
          11.104107856750488,
          -80.93413543701172,
          4.815864086151123,
          19.263456344604492,
          4.815864086151123,
          12.039660453796387,
          19.263456344604492,
          19.263456344604492,
          -2.4079320430755615,
          -2.4079320430755615,
          4.815864086151123
         ],
         "z": [
          346.6499938964844,
          337.54998779296875,
          362.3500061035156,
          337.54998779296875,
          371.45001220703125,
          312.75,
          297.04998779296875,
          396.25,
          396.25,
          421.04998779296875,
          337.54998779296875,
          297.04998779296875,
          445.8500061035156,
          445.8500061035156,
          436.75,
          266.8999938964844,
          312.75,
          312.75,
          266.8999938964844,
          297.04998779296875,
          312.75,
          321.8500061035156,
          321.8500061035156,
          321.8500061035156,
          337.54998779296875
         ]
        }
       ],
       "layout": {
        "autosize": false,
        "margin": {
         "b": 10,
         "l": 10,
         "r": 20,
         "t": 10
        },
        "scene": {
         "xaxis": {
          "nticks": 6,
          "range": [
           -200,
           200
          ]
         },
         "yaxis": {
          "nticks": 6,
          "range": [
           -200,
           200
          ]
         },
         "zaxis": {
          "nticks": 10,
          "range": [
           240,
           500
          ]
         }
        },
        "template": {
         "data": {
          "bar": [
           {
            "error_x": {
             "color": "#2a3f5f"
            },
            "error_y": {
             "color": "#2a3f5f"
            },
            "marker": {
             "line": {
              "color": "#E5ECF6",
              "width": 0.5
             },
             "pattern": {
              "fillmode": "overlay",
              "size": 10,
              "solidity": 0.2
             }
            },
            "type": "bar"
           }
          ],
          "barpolar": [
           {
            "marker": {
             "line": {
              "color": "#E5ECF6",
              "width": 0.5
             },
             "pattern": {
              "fillmode": "overlay",
              "size": 10,
              "solidity": 0.2
             }
            },
            "type": "barpolar"
           }
          ],
          "carpet": [
           {
            "aaxis": {
             "endlinecolor": "#2a3f5f",
             "gridcolor": "white",
             "linecolor": "white",
             "minorgridcolor": "white",
             "startlinecolor": "#2a3f5f"
            },
            "baxis": {
             "endlinecolor": "#2a3f5f",
             "gridcolor": "white",
             "linecolor": "white",
             "minorgridcolor": "white",
             "startlinecolor": "#2a3f5f"
            },
            "type": "carpet"
           }
          ],
          "choropleth": [
           {
            "colorbar": {
             "outlinewidth": 0,
             "ticks": ""
            },
            "type": "choropleth"
           }
          ],
          "contour": [
           {
            "colorbar": {
             "outlinewidth": 0,
             "ticks": ""
            },
            "colorscale": [
             [
              0,
              "#0d0887"
             ],
             [
              0.1111111111111111,
              "#46039f"
             ],
             [
              0.2222222222222222,
              "#7201a8"
             ],
             [
              0.3333333333333333,
              "#9c179e"
             ],
             [
              0.4444444444444444,
              "#bd3786"
             ],
             [
              0.5555555555555556,
              "#d8576b"
             ],
             [
              0.6666666666666666,
              "#ed7953"
             ],
             [
              0.7777777777777778,
              "#fb9f3a"
             ],
             [
              0.8888888888888888,
              "#fdca26"
             ],
             [
              1,
              "#f0f921"
             ]
            ],
            "type": "contour"
           }
          ],
          "contourcarpet": [
           {
            "colorbar": {
             "outlinewidth": 0,
             "ticks": ""
            },
            "type": "contourcarpet"
           }
          ],
          "heatmap": [
           {
            "colorbar": {
             "outlinewidth": 0,
             "ticks": ""
            },
            "colorscale": [
             [
              0,
              "#0d0887"
             ],
             [
              0.1111111111111111,
              "#46039f"
             ],
             [
              0.2222222222222222,
              "#7201a8"
             ],
             [
              0.3333333333333333,
              "#9c179e"
             ],
             [
              0.4444444444444444,
              "#bd3786"
             ],
             [
              0.5555555555555556,
              "#d8576b"
             ],
             [
              0.6666666666666666,
              "#ed7953"
             ],
             [
              0.7777777777777778,
              "#fb9f3a"
             ],
             [
              0.8888888888888888,
              "#fdca26"
             ],
             [
              1,
              "#f0f921"
             ]
            ],
            "type": "heatmap"
           }
          ],
          "heatmapgl": [
           {
            "colorbar": {
             "outlinewidth": 0,
             "ticks": ""
            },
            "colorscale": [
             [
              0,
              "#0d0887"
             ],
             [
              0.1111111111111111,
              "#46039f"
             ],
             [
              0.2222222222222222,
              "#7201a8"
             ],
             [
              0.3333333333333333,
              "#9c179e"
             ],
             [
              0.4444444444444444,
              "#bd3786"
             ],
             [
              0.5555555555555556,
              "#d8576b"
             ],
             [
              0.6666666666666666,
              "#ed7953"
             ],
             [
              0.7777777777777778,
              "#fb9f3a"
             ],
             [
              0.8888888888888888,
              "#fdca26"
             ],
             [
              1,
              "#f0f921"
             ]
            ],
            "type": "heatmapgl"
           }
          ],
          "histogram": [
           {
            "marker": {
             "pattern": {
              "fillmode": "overlay",
              "size": 10,
              "solidity": 0.2
             }
            },
            "type": "histogram"
           }
          ],
          "histogram2d": [
           {
            "colorbar": {
             "outlinewidth": 0,
             "ticks": ""
            },
            "colorscale": [
             [
              0,
              "#0d0887"
             ],
             [
              0.1111111111111111,
              "#46039f"
             ],
             [
              0.2222222222222222,
              "#7201a8"
             ],
             [
              0.3333333333333333,
              "#9c179e"
             ],
             [
              0.4444444444444444,
              "#bd3786"
             ],
             [
              0.5555555555555556,
              "#d8576b"
             ],
             [
              0.6666666666666666,
              "#ed7953"
             ],
             [
              0.7777777777777778,
              "#fb9f3a"
             ],
             [
              0.8888888888888888,
              "#fdca26"
             ],
             [
              1,
              "#f0f921"
             ]
            ],
            "type": "histogram2d"
           }
          ],
          "histogram2dcontour": [
           {
            "colorbar": {
             "outlinewidth": 0,
             "ticks": ""
            },
            "colorscale": [
             [
              0,
              "#0d0887"
             ],
             [
              0.1111111111111111,
              "#46039f"
             ],
             [
              0.2222222222222222,
              "#7201a8"
             ],
             [
              0.3333333333333333,
              "#9c179e"
             ],
             [
              0.4444444444444444,
              "#bd3786"
             ],
             [
              0.5555555555555556,
              "#d8576b"
             ],
             [
              0.6666666666666666,
              "#ed7953"
             ],
             [
              0.7777777777777778,
              "#fb9f3a"
             ],
             [
              0.8888888888888888,
              "#fdca26"
             ],
             [
              1,
              "#f0f921"
             ]
            ],
            "type": "histogram2dcontour"
           }
          ],
          "mesh3d": [
           {
            "colorbar": {
             "outlinewidth": 0,
             "ticks": ""
            },
            "type": "mesh3d"
           }
          ],
          "parcoords": [
           {
            "line": {
             "colorbar": {
              "outlinewidth": 0,
              "ticks": ""
             }
            },
            "type": "parcoords"
           }
          ],
          "pie": [
           {
            "automargin": true,
            "type": "pie"
           }
          ],
          "scatter": [
           {
            "fillpattern": {
             "fillmode": "overlay",
             "size": 10,
             "solidity": 0.2
            },
            "type": "scatter"
           }
          ],
          "scatter3d": [
           {
            "line": {
             "colorbar": {
              "outlinewidth": 0,
              "ticks": ""
             }
            },
            "marker": {
             "colorbar": {
              "outlinewidth": 0,
              "ticks": ""
             }
            },
            "type": "scatter3d"
           }
          ],
          "scattercarpet": [
           {
            "marker": {
             "colorbar": {
              "outlinewidth": 0,
              "ticks": ""
             }
            },
            "type": "scattercarpet"
           }
          ],
          "scattergeo": [
           {
            "marker": {
             "colorbar": {
              "outlinewidth": 0,
              "ticks": ""
             }
            },
            "type": "scattergeo"
           }
          ],
          "scattergl": [
           {
            "marker": {
             "colorbar": {
              "outlinewidth": 0,
              "ticks": ""
             }
            },
            "type": "scattergl"
           }
          ],
          "scattermapbox": [
           {
            "marker": {
             "colorbar": {
              "outlinewidth": 0,
              "ticks": ""
             }
            },
            "type": "scattermapbox"
           }
          ],
          "scatterpolar": [
           {
            "marker": {
             "colorbar": {
              "outlinewidth": 0,
              "ticks": ""
             }
            },
            "type": "scatterpolar"
           }
          ],
          "scatterpolargl": [
           {
            "marker": {
             "colorbar": {
              "outlinewidth": 0,
              "ticks": ""
             }
            },
            "type": "scatterpolargl"
           }
          ],
          "scatterternary": [
           {
            "marker": {
             "colorbar": {
              "outlinewidth": 0,
              "ticks": ""
             }
            },
            "type": "scatterternary"
           }
          ],
          "surface": [
           {
            "colorbar": {
             "outlinewidth": 0,
             "ticks": ""
            },
            "colorscale": [
             [
              0,
              "#0d0887"
             ],
             [
              0.1111111111111111,
              "#46039f"
             ],
             [
              0.2222222222222222,
              "#7201a8"
             ],
             [
              0.3333333333333333,
              "#9c179e"
             ],
             [
              0.4444444444444444,
              "#bd3786"
             ],
             [
              0.5555555555555556,
              "#d8576b"
             ],
             [
              0.6666666666666666,
              "#ed7953"
             ],
             [
              0.7777777777777778,
              "#fb9f3a"
             ],
             [
              0.8888888888888888,
              "#fdca26"
             ],
             [
              1,
              "#f0f921"
             ]
            ],
            "type": "surface"
           }
          ],
          "table": [
           {
            "cells": {
             "fill": {
              "color": "#EBF0F8"
             },
             "line": {
              "color": "white"
             }
            },
            "header": {
             "fill": {
              "color": "#C8D4E3"
             },
             "line": {
              "color": "white"
             }
            },
            "type": "table"
           }
          ]
         },
         "layout": {
          "annotationdefaults": {
           "arrowcolor": "#2a3f5f",
           "arrowhead": 0,
           "arrowwidth": 1
          },
          "autotypenumbers": "strict",
          "coloraxis": {
           "colorbar": {
            "outlinewidth": 0,
            "ticks": ""
           }
          },
          "colorscale": {
           "diverging": [
            [
             0,
             "#8e0152"
            ],
            [
             0.1,
             "#c51b7d"
            ],
            [
             0.2,
             "#de77ae"
            ],
            [
             0.3,
             "#f1b6da"
            ],
            [
             0.4,
             "#fde0ef"
            ],
            [
             0.5,
             "#f7f7f7"
            ],
            [
             0.6,
             "#e6f5d0"
            ],
            [
             0.7,
             "#b8e186"
            ],
            [
             0.8,
             "#7fbc41"
            ],
            [
             0.9,
             "#4d9221"
            ],
            [
             1,
             "#276419"
            ]
           ],
           "sequential": [
            [
             0,
             "#0d0887"
            ],
            [
             0.1111111111111111,
             "#46039f"
            ],
            [
             0.2222222222222222,
             "#7201a8"
            ],
            [
             0.3333333333333333,
             "#9c179e"
            ],
            [
             0.4444444444444444,
             "#bd3786"
            ],
            [
             0.5555555555555556,
             "#d8576b"
            ],
            [
             0.6666666666666666,
             "#ed7953"
            ],
            [
             0.7777777777777778,
             "#fb9f3a"
            ],
            [
             0.8888888888888888,
             "#fdca26"
            ],
            [
             1,
             "#f0f921"
            ]
           ],
           "sequentialminus": [
            [
             0,
             "#0d0887"
            ],
            [
             0.1111111111111111,
             "#46039f"
            ],
            [
             0.2222222222222222,
             "#7201a8"
            ],
            [
             0.3333333333333333,
             "#9c179e"
            ],
            [
             0.4444444444444444,
             "#bd3786"
            ],
            [
             0.5555555555555556,
             "#d8576b"
            ],
            [
             0.6666666666666666,
             "#ed7953"
            ],
            [
             0.7777777777777778,
             "#fb9f3a"
            ],
            [
             0.8888888888888888,
             "#fdca26"
            ],
            [
             1,
             "#f0f921"
            ]
           ]
          },
          "colorway": [
           "#636efa",
           "#EF553B",
           "#00cc96",
           "#ab63fa",
           "#FFA15A",
           "#19d3f3",
           "#FF6692",
           "#B6E880",
           "#FF97FF",
           "#FECB52"
          ],
          "font": {
           "color": "#2a3f5f"
          },
          "geo": {
           "bgcolor": "white",
           "lakecolor": "white",
           "landcolor": "#E5ECF6",
           "showlakes": true,
           "showland": true,
           "subunitcolor": "white"
          },
          "hoverlabel": {
           "align": "left"
          },
          "hovermode": "closest",
          "mapbox": {
           "style": "light"
          },
          "paper_bgcolor": "white",
          "plot_bgcolor": "#E5ECF6",
          "polar": {
           "angularaxis": {
            "gridcolor": "white",
            "linecolor": "white",
            "ticks": ""
           },
           "bgcolor": "#E5ECF6",
           "radialaxis": {
            "gridcolor": "white",
            "linecolor": "white",
            "ticks": ""
           }
          },
          "scene": {
           "xaxis": {
            "backgroundcolor": "#E5ECF6",
            "gridcolor": "white",
            "gridwidth": 2,
            "linecolor": "white",
            "showbackground": true,
            "ticks": "",
            "zerolinecolor": "white"
           },
           "yaxis": {
            "backgroundcolor": "#E5ECF6",
            "gridcolor": "white",
            "gridwidth": 2,
            "linecolor": "white",
            "showbackground": true,
            "ticks": "",
            "zerolinecolor": "white"
           },
           "zaxis": {
            "backgroundcolor": "#E5ECF6",
            "gridcolor": "white",
            "gridwidth": 2,
            "linecolor": "white",
            "showbackground": true,
            "ticks": "",
            "zerolinecolor": "white"
           }
          },
          "shapedefaults": {
           "line": {
            "color": "#2a3f5f"
           }
          },
          "ternary": {
           "aaxis": {
            "gridcolor": "white",
            "linecolor": "white",
            "ticks": ""
           },
           "baxis": {
            "gridcolor": "white",
            "linecolor": "white",
            "ticks": ""
           },
           "bgcolor": "#E5ECF6",
           "caxis": {
            "gridcolor": "white",
            "linecolor": "white",
            "ticks": ""
           }
          },
          "title": {
           "x": 0.05
          },
          "xaxis": {
           "automargin": true,
           "gridcolor": "white",
           "linecolor": "white",
           "ticks": "",
           "title": {
            "standoff": 15
           },
           "zerolinecolor": "white",
           "zerolinewidth": 2
          },
          "yaxis": {
           "automargin": true,
           "gridcolor": "white",
           "linecolor": "white",
           "ticks": "",
           "title": {
            "standoff": 15
           },
           "zerolinecolor": "white",
           "zerolinewidth": 2
          }
         }
        }
       }
      }
     },
     "metadata": {},
     "output_type": "display_data"
    },
    {
     "name": "stdout",
     "output_type": "stream",
     "text": [
      "[-13, 11, 11, 11, 11, 11, 2212, 2212, 11, ... 11, -13, 11, 11, 11, 11, -13, 2212, 11]\n"
     ]
    }
   ],
   "source": [
    "event = 1995\n",
    "x = []\n",
    "y = []\n",
    "z = []\n",
    "colors = []\n",
    "\n",
    "# Add Tracks\n",
    "for track in range(1):\n",
    "    track = 0\n",
    "    for hit in range(len(tree['ax'][event])):\n",
    "        x.append(tree['ax'][event][track])\n",
    "        x.append(tree['ax'][event][track] + 200*tree['bx'][event][track])\n",
    "        x.append(tree['ax'][event][track] - 200*tree['bx'][event][track])\n",
    "        y.append(tree['ay'][event][track])\n",
    "        y.append(tree['ay'][event][track] + 200*tree['by'][event][track])\n",
    "        y.append(tree['ay'][event][track] - 200*tree['by'][event][track])\n",
    "        z.append(tree['az'][event][track])\n",
    "        z.append(tree['az'][event][track] + 200*tree['bz'][event][track])\n",
    "        z.append(tree['az'][event][track] - 200*tree['bz'][event][track])\n",
    "        colors.append('track')\n",
    "        colors.append('track')\n",
    "        colors.append('track')\n",
    "\n",
    "\n",
    "# Add Electron Trajectory\n",
    "\n",
    "for hit in range(len(tree['electronZ'][event])):\n",
    "    x.append(tree['electronX'][event][hit])\n",
    "    y.append(tree['electronY'][event][hit])\n",
    "    z.append(tree['electronZ'][event][hit])\n",
    "    colors.append('electron trajectory')\n",
    "\n",
    "# Add Photon Trajectory\n",
    "for hit in range(len(tree['photonX'][event])):\n",
    "    x.append(tree['photonX'][event][hit])\n",
    "    y.append(tree['photonY'][event][hit])\n",
    "    z.append(tree['photonZ'][event][hit])\n",
    "    colors.append('photon trajectory')\n",
    "  \n",
    "hits = {}\n",
    "xHit = []\n",
    "yHit = []\n",
    "zHit = []\n",
    "colorHit = []\n",
    "# Add Track Hits\n",
    "for track in range(len(tree['x_assoc'][event])):\n",
    "    trackNum = track + 1\n",
    "    for hit in range(len(tree['x_assoc'][event][track])):\n",
    "        xHit.append(tree['x_assoc'][event][track][hit])\n",
    "        yHit.append(tree['y_assoc'][event][track][hit])\n",
    "        zHit.append(tree['z_assoc'][event][track][hit])\n",
    "        colorHit.append('track')\n",
    "hits['X'] = xHit\n",
    "hits['Y'] = yHit\n",
    "hits['Z'] = zHit\n",
    "hits['color'] = colorHit\n",
    "\n",
    "hits = {}\n",
    "xHit = []\n",
    "yHit = []\n",
    "zHit = []\n",
    "pdgHit = []\n",
    "\n",
    "# Add Track Hits\n",
    "for hit in range(len(tree['hitX'][event])):\n",
    "    \n",
    "\n",
    "    particle = abs(tree['pdgID'][event][hit])\n",
    "    if(particle == 321 or particle == 13):\n",
    "        pdgHit.append('MIP')\n",
    "        xHit.append(tree['hitX'][event][hit])\n",
    "        yHit.append(tree['hitY'][event][hit])\n",
    "        zHit.append(tree['hitZ'][event][hit])\n",
    "\n",
    "for hit in range(len(tree['hitX'][event])):\n",
    "\n",
    "    particle = abs(tree['pdgID'][event][hit])\n",
    "    if not(particle == 321 or particle == 13):\n",
    "        pdgHit.append('Other')\n",
    "        xHit.append(tree['hitX'][event][hit])\n",
    "        yHit.append(tree['hitY'][event][hit])\n",
    "        zHit.append(tree['hitZ'][event][hit])\n",
    "\n",
    "hits['X'] = xHit\n",
    "hits['Y'] = yHit\n",
    "hits['Z'] = zHit\n",
    "hits['PDGID'] = pdgHit\n",
    "\n",
    "lines = pd.DataFrame(dict(X=x,Y=y,Z=z,color=colors))\n",
    "fig1 = px.line_3d(lines, x='X', y='Y', z='Z', color=\"color\")\n",
    "\n",
    "fig2 = px.scatter_3d(x=hits['X'], y=hits['Y'], z=hits['Z'],color=hits['PDGID'])\n",
    "\n",
    "fig3= go.Figure(data=fig1.data + fig2.data)\n",
    "\n",
    "fig3.update_layout(\n",
    "    scene = dict(\n",
    "        xaxis = dict(nticks=6, range=[-200,200],),\n",
    "                     yaxis = dict(nticks=6, range=[-200,200],),\n",
    "                     zaxis = dict(nticks=10, range=[240,500],),),\n",
    "    autosize=False,\n",
    "    margin=dict(r=20, l=10, b=10, t=10))\n",
    "\n",
    "fig3.update_traces(marker=dict(size=2),selector=dict(mode='markers'))\n",
    "\n",
    "fig3.show()\n",
    "\n",
    "print(tree['pdgID'][event])"
   ]
  }
 ],
 "metadata": {
  "kernelspec": {
   "display_name": "Python 3.8.5 ('base')",
   "language": "python",
   "name": "python3"
  },
  "language_info": {
   "codemirror_mode": {
    "name": "ipython",
    "version": 3
   },
   "file_extension": ".py",
   "mimetype": "text/x-python",
   "name": "python",
   "nbconvert_exporter": "python",
   "pygments_lexer": "ipython3",
   "version": "3.8.5"
  },
  "orig_nbformat": 4,
  "vscode": {
   "interpreter": {
    "hash": "00797aeb65c0fcee01712f65908ca620cd9ba7fea561defde96507d75212ab0d"
   }
  }
 },
 "nbformat": 4,
 "nbformat_minor": 2
}
