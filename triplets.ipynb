{
 "cells": [
  {
   "cell_type": "code",
   "execution_count": 1,
   "metadata": {},
   "outputs": [],
   "source": [
    "import uproot\n",
    "import numpy as np\n",
    "import awkward\n",
    "import concurrent.futures\n",
    "import matplotlib.pyplot as plt\n",
    "from mpl_toolkits.mplot3d import Axes3D\n",
    "import math"
   ]
  },
  {
   "cell_type": "code",
   "execution_count": 2,
   "metadata": {},
   "outputs": [],
   "source": [
    "# Magnitude of whatever\n",
    "def mag(iterable):\n",
    "    return math.sqrt(sum([x**2 for x in iterable]))\n",
    "\n",
    "# Return normalized np array\n",
    "def unit(arrayy):\n",
    "    return np.array(arrayy)/mag(arrayy)\n",
    "\n",
    "# Minimum distance between lines, each line defined by two points\n",
    "def distTwoLines(h1,h2,p1,p2):\n",
    "    e1  = unit( h1 - h2 )\n",
    "    e2  = unit( p1 - p2 )\n",
    "    crs = np.cross(e1,e2) # Vec perp to both lines\n",
    "    if mag(crs) != 0:\n",
    "        return abs( np.dot( crs,h1-p1) )\n",
    "    else: # Lines are parallel; need different method\n",
    "        return mag( np.cross(e1,h1-p1) )"
   ]
  },
  {
   "cell_type": "code",
   "execution_count": 3,
   "metadata": {},
   "outputs": [],
   "source": [
    "executor = concurrent.futures.ThreadPoolExecutor(8)\n",
    "filename = '/Users/davidjiang/mip_tracking/4gev_1e_tskim_v12_kaons_ldmx-det-v12_toughkskim.root'\n",
    "\n",
    "# radius of containment for each ECal layer\n",
    "radius_beam_68 = [4.73798004, 4.80501156, 4.77108164, 4.53839401, 4.73273021,\n",
    "4.76662872, 5.76994967, 5.92028271, 7.28770932, 7.60723209,\n",
    "9.36050277, 10.03247442, 12.14656399, 13.16076587, 15.88429816,\n",
    "17.03559932, 20.32607264, 21.75096888, 24.98745754, 27.02031225,\n",
    "30.78043038, 33.03033267, 37.55088662, 40.14062264, 47.95964745,\n",
    "55.96441035, 66.33128366, 70.42649416, 86.68563278, 102.49022815,\n",
    "119.06854141, 121.20048803, 127.5236134, 121.99024095]\n",
    "\n",
    "# distance between each ECal layer\n",
    "layer_dz = np.array([7.850, 13.300, 26.400, 33.500, 47.950, 56.550, 72.250, 81.350, 97.050, 106.150,\n",
    "            121.850, 130.950, 146.650, 155.750, 171.450, 180.550, 196.250, 205.350, 221.050,\n",
    "            230.150, 245.850, 254.950, 270.650, 279.750, 298.950, 311.550, 330.750, 343.350,\n",
    "            362.550, 375.150, 394.350, 406.950, 426.150, 438.750])\n",
    "\n",
    "# z-position of each ECal layer\n",
    "layer_z = 240.5 + layer_dz\n",
    "\n",
    "# list of branches we want to store from the root file\n",
    "branches = []\n",
    "branch_suffix = 'v3_v12'\n",
    "\n",
    "# branchnames\n",
    "ecal_branch = 'EcalRecHits_{}/EcalRecHits_{}'.format(branch_suffix, branch_suffix)\n",
    "ecalSP_branch = 'EcalScoringPlaneHits_{}/EcalScoringPlaneHits_{}'.format(branch_suffix, branch_suffix)\n",
    "tSP_branch = 'TargetScoringPlaneHits_{}/TargetScoringPlaneHits_{}'.format(branch_suffix, branch_suffix)\n",
    "ecalVeto_branch = 'EcalVeto_{}'.format(branch_suffix)\n",
    "ecalSim_branch = 'EcalSimHits_{}/EcalSimHits_{}'.format(branch_suffix, branch_suffix)"
   ]
  },
  {
   "cell_type": "code",
   "execution_count": 4,
   "metadata": {},
   "outputs": [],
   "source": [
    "# add EcalRecHits branches\n",
    "for leaf in ['xpos_', 'ypos_', 'zpos_', 'energy_']:\n",
    "    branches.append('{}.{}'.format(ecal_branch, leaf))\n",
    "\n",
    "# add EcalVeto branches\n",
    "for leaf in ['showerRMS_', 'epAng_', 'passesVeto_']:\n",
    "    branches.append('{}/{}'.format(ecalVeto_branch, leaf))\n",
    "\n",
    "# add EcalSPHits and TargetSPHits branches\n",
    "# Use EcalSPHits for fiducial/non-fiducial and TargetSPHits for trajectories\n",
    "for leaf in ['x_', 'y_', 'z_', 'px_', 'py_', 'pz_', 'pdgID_', 'trackID_']:\n",
    "    branches.append('{}.{}'.format(ecalSP_branch, leaf))\n",
    "    branches.append('{}.{}'.format(tSP_branch, leaf))\n",
    "\n",
    "# add EcalSimHits branches\n",
    "for leaf in ['x_', 'y_', 'z_', 'pdgCodeContribs_', 'edepContribs_', 'incidentIDContribs_']:\n",
    "    branches.append('{}.{}'.format(ecalSim_branch, leaf))\n",
    "\n",
    "# add the eventNumber leaf\n",
    "branches.append('EventHeader/eventNumber_')\n",
    "#print (branches)"
   ]
  },
  {
   "cell_type": "code",
   "execution_count": 5,
   "metadata": {},
   "outputs": [],
   "source": [
    "# use uproot and load all of the data into a dictionary: {'leaf1': [data], 'leaf2': [data], ...}\n",
    "t = uproot.open(filename)['LDMX_Events']\n",
    "table = t.arrays(expressions=branches, interpretation_executor=executor)\n",
    "\n",
    "# we store all of our data into the dictionary \"tree\"\n",
    "tree = {}\n",
    "for branch in branches:\n",
    "    tree[branch] = table[branch]\n",
    "\n",
    "#print(tree.keys())\n"
   ]
  },
  {
   "cell_type": "code",
   "execution_count": 6,
   "metadata": {},
   "outputs": [],
   "source": [
    "# find the number of events that pass through the vetoes\n",
    "# record the event numbers of the events that pass through the vetoes\n",
    "events = 0\n",
    "eventNumbers = []\n",
    "for event in range(len(tree['EventHeader/eventNumber_'])):\n",
    "    events +=1\n",
    "    eventNumbers.append(tree['EventHeader/eventNumber_'][event])\n",
    "\n",
    "#print(events)\n",
    "#print(eventNumbers)\n"
   ]
  },
  {
   "cell_type": "code",
   "execution_count": 7,
   "metadata": {},
   "outputs": [],
   "source": [
    "# calculate the electron and photon trajectories\n",
    "\n",
    "# we will store the data for the trajectory positions inside this dictionary:\n",
    "trajectories = {}\n",
    "b1 = []\n",
    "b2 = []\n",
    "b3 = []\n",
    "b4 = []\n",
    "\n",
    "# loop through all of the events\n",
    "for i in range(1):\n",
    "    tSPHits = {}\n",
    "    ecalSPHits = {}\n",
    "    for x in ['x_', 'y_', 'z_', 'px_', 'py_', 'pz_', 'pdgID_', 'trackID_']:\n",
    "        tSPHits[x] = (table['{}.{}'.format(tSP_branch, x)])[i]\n",
    "        ecalSPHits[x] = (table['{}.{}'.format(ecalSP_branch, x)])[i]\n",
    "   \n",
    "    # find the max pz at the target scoring plane for the recoil electron\n",
    "    max_pz = 0\n",
    "    r = 0\n",
    "    for j in range(len(tSPHits['z_'])):\n",
    "        if tSPHits['pdgID_'][j] == 11 and tSPHits['z_'][j] > 4.4 and tSPHits['z_'][j] < 4.6 and tSPHits['pz_'][j] > max_pz and tSPHits['trackID_'][j] == 1:\n",
    "            max_pz = tSPHits['pz_'][j]\n",
    "            r = j\n",
    "    #print(\"Found recoil e- pz at target for event {}: {}\".format(tree['EventHeader/eventNumber_'][i],max_pz))\n",
    "\n",
    "    # find the max pz at the ecal face for the recoil electron\n",
    "    max_pz_e = 0\n",
    "    r_e = 0\n",
    "    for j in range(len(ecalSPHits['z_'])):\n",
    "        if ecalSPHits['pdgID_'][j] == 11 and ecalSPHits['z_'][j] > 239 and ecalSPHits['z_'][j] < 242 and ecalSPHits['pz_'][j] > max_pz_e and ecalSPHits['trackID_'][j] == 1:\n",
    "            max_pz_e = ecalSPHits['pz_'][j]\n",
    "            r_e = j\n",
    "    fiducial = max_pz_e != 0\n",
    "    \n",
    "    if fiducial:\n",
    "        E_beam = 4000\n",
    "        target_dist = 241.5\n",
    "        # positions and trajectory vectors of recoil e- at Ecal SP\n",
    "        etraj_sp = np.array((ecalSPHits['x_'][r_e], ecalSPHits['y_'][r_e], ecalSPHits['z_'][r_e]))\n",
    "        enorm_sp = np.array((ecalSPHits['px_'][r_e]/ecalSPHits['pz_'][r_e], ecalSPHits['py_'][r_e]/ecalSPHits['pz_'][r_e], 1.0))\n",
    "        # positions and trajectory vectors of photon at Target SP\n",
    "        pnorm_sp = np.array((-tSPHits['px_'][r]/(E_beam - tSPHits['pz_'][r]), -tSPHits['py_'][r]/(E_beam - tSPHits['pz_'][r]), 1.0))\n",
    "        ptraj_sp = np.array((tSPHits['x_'][r] + target_dist*pnorm_sp[0], tSPHits['y_'][r] + target_dist*pnorm_sp[1], tSPHits['z_'][r] + target_dist))\n",
    "        # store the trajectory information \n",
    "        b1.append(etraj_sp)\n",
    "        b2.append(enorm_sp)\n",
    "        b3.append(pnorm_sp)\n",
    "        b4.append(ptraj_sp)\n",
    "    else:\n",
    "        etraj_sp, enorm_sp, ptraj_sp, pnorm_sp = None, None, None, None\n",
    "\n",
    "# store the e- trajectory and its normal vector, store the photon trajectory and its normal vector\n",
    "trajectories['etraj_sp'] = b1\n",
    "trajectories['enorm_sp'] = b2\n",
    "trajectories['pnorm_sp'] = b3\n",
    "trajectories['ptraj_sp'] = b4\n"
   ]
  },
  {
   "cell_type": "code",
   "execution_count": 9,
   "metadata": {},
   "outputs": [],
   "source": [
    "# get the PDG IDs of the hits\n",
    "Pdg_ID = []\n",
    "for event in range(1):\n",
    "    # data from EcalSimHits\n",
    "    sim_dict = {}\n",
    "    for x in ['x_', 'y_', 'z_', 'pdgCodeContribs_', 'edepContribs_', 'incidentIDContribs_']:\n",
    "        sim_dict[x] = table['{}.{}'.format(ecalSim_branch, x)][event]\n",
    "\n",
    "    # data from EcalRecHits\n",
    "    ecal_dict = {}\n",
    "    for x in ['xpos_', 'ypos_', 'zpos_']:\n",
    "        ecal_dict[x] = table['{}.{}'.format(ecal_branch, x)][event]\n",
    "\n",
    "    rec_matched_ids = []\n",
    "    rec_parent_ids = []\n",
    "\n",
    "    for j in range(len(ecal_dict['zpos_'])):\n",
    "        # For each hit:  Find a contrib w/ the same position, then match:\n",
    "        simIndex = None # EcalSimHit index\n",
    "        contribIndex = None # index of contribution within EcalSimHit\n",
    "        for k in range(len(sim_dict['x_'])):\n",
    "            if round(sim_dict['x_'][k]) == round(ecal_dict['xpos_'][j]) and \\\n",
    "                round(sim_dict['y_'][k]) == round(ecal_dict['ypos_'][j]) and \\\n",
    "                round(sim_dict['z_'][k]) == round(ecal_dict['zpos_'][j]):\n",
    "                simIndex = k # we found a matching hit. \n",
    "                # now, go through the contribs and find the pdgID of the contrib w/ max edep:\n",
    "                eDepMax = 0\n",
    "                for l in range(len(sim_dict['edepContribs_'][k])):\n",
    "                    if sim_dict['edepContribs_'][k][l] > eDepMax:\n",
    "                        eDepMax = sim_dict['edepContribs_'][k][l]\n",
    "                        contribIndex = l\n",
    "        if not simIndex:  # If no EcalSimHit found, presumably noise; record\n",
    "            rec_matched_ids.append(None)\n",
    "            rec_parent_ids.append(None)\n",
    "        else:\n",
    "            rec_matched_ids.append(sim_dict['pdgCodeContribs_'][simIndex][contribIndex])\n",
    "            rec_parent_ids.append(sim_dict['incidentIDContribs_'][simIndex][contribIndex])\n",
    "    Pdg_ID.append(rec_matched_ids)\n",
    "\n",
    "tree['Pdg_ID'] = Pdg_ID"
   ]
  },
  {
   "cell_type": "code",
   "execution_count": 11,
   "metadata": {},
   "outputs": [],
   "source": [
    "# loop through each event and cut all of the hits within electron containment radii\n",
    "\n",
    "# this is a new dictionary that will story only the hits that are outside the e- containment radii\n",
    "cutTree = {}\n",
    "\n",
    "eventsX = []\n",
    "eventsY = []\n",
    "eventsZ = []\n",
    "pdgIDs = []\n",
    "\n",
    "# loop through each event \n",
    "for event in range(1):\n",
    "    ecal_front = 240.5\n",
    "    etraj_front = np.array(trajectories['etraj_sp']) \n",
    "    ptraj_front = np.array(trajectories['ptraj_sp']) \n",
    "\n",
    "    # obtain the event's e- trajectory layer intercepts\n",
    "    eLayerIntercepts = []\n",
    "    intercept = (trajectories['etraj_sp'][event][0] + layer_dz*trajectories['enorm_sp'][event][0], \n",
    "                trajectories['etraj_sp'][event][1] + layer_dz*trajectories['enorm_sp'][event][1], \n",
    "                trajectories['etraj_sp'][event][2] + layer_dz*trajectories['enorm_sp'][event][2])\n",
    "    eLayerIntercepts.append(intercept)\n",
    "    eLayerIntercepts = np.concatenate(np.array(eLayerIntercepts))\n",
    "\n",
    "    # obtain the event's photon trajectory layer intercepts\n",
    "    pLayerIntercepts = []\n",
    "    intercept = (trajectories['ptraj_sp'][event][0] + layer_dz*trajectories['pnorm_sp'][event][0], \n",
    "                trajectories['ptraj_sp'][event][1] + layer_dz*trajectories['pnorm_sp'][event][1], \n",
    "                trajectories['ptraj_sp'][event][2] + layer_dz*trajectories['pnorm_sp'][event][2])\n",
    "    pLayerIntercepts.append(intercept)\n",
    "    pLayerIntercepts = np.concatenate(np.array(pLayerIntercepts))\n",
    "    \n",
    "    hitsX = []\n",
    "    hitsY = []\n",
    "    hitsZ = []\n",
    "    pdgids = []\n",
    "\n",
    "    # loop through each hit within the event\n",
    "    for hit in range(len(tree['EcalRecHits_v3_v12/EcalRecHits_v3_v12.xpos_'][event])):\n",
    "        x = tree['EcalRecHits_v3_v12/EcalRecHits_v3_v12.xpos_'][event][hit]\n",
    "        y = tree['EcalRecHits_v3_v12/EcalRecHits_v3_v12.ypos_'][event][hit]\n",
    "        z = tree['EcalRecHits_v3_v12/EcalRecHits_v3_v12.zpos_'][event][hit]\n",
    "        pdgid = tree['Pdg_ID'][event][hit]\n",
    "        \n",
    "        # loop through each layer of the ECal and check if its distance from the e- layer intercept is > corresponding layer's containment radius\n",
    "        for layer in range(34):\n",
    "            if z >= layer_z[layer] - .25 and z <= layer_z[layer] + .25:\n",
    "                dist = np.sqrt((eLayerIntercepts[0][layer] - x)**2 + (eLayerIntercepts[1][layer] - y)**2)\n",
    "                if dist >= radius_beam_68[layer]:\n",
    "                    hitsX.append(x)\n",
    "                    hitsY.append(y)\n",
    "                    hitsZ.append(z)\n",
    "                    pdgids.append(pdgid)\n",
    "\n",
    "    eventsX.append(hitsX)\n",
    "    eventsY.append(hitsY)\n",
    "    eventsZ.append(hitsZ)\n",
    "    pdgIDs.append(pdgids)\n",
    "\n",
    "# these are our new branches without the hits inside the electron containment radius\n",
    "cutTree['EcalRecHits_v3_v12/EcalRecHits_v3_v12.xpos_'] = eventsX\n",
    "cutTree['EcalRecHits_v3_v12/EcalRecHits_v3_v12.ypos_'] = eventsY\n",
    "cutTree['EcalRecHits_v3_v12/EcalRecHits_v3_v12.zpos_'] = eventsZ\n",
    "cutTree['Pdg_ID'] = pdgIDs"
   ]
  },
  {
   "cell_type": "code",
   "execution_count": 13,
   "metadata": {},
   "outputs": [],
   "source": [
    "# Code for writing the hit positions into a .dat file\n",
    "\n",
    "x1 = []\n",
    "y1 = []\n",
    "z1 = []\n",
    "pdg1 = []\n",
    "\n",
    "event = 0\n",
    "\n",
    "for hit in range(len(cutTree['EcalRecHits_v3_v12/EcalRecHits_v3_v12.xpos_'][event])):\n",
    "    x1.append(cutTree['EcalRecHits_v3_v12/EcalRecHits_v3_v12.xpos_'][event][hit])\n",
    "    y1.append(cutTree['EcalRecHits_v3_v12/EcalRecHits_v3_v12.ypos_'][event][hit])\n",
    "    z1.append(cutTree['EcalRecHits_v3_v12/EcalRecHits_v3_v12.zpos_'][event][hit])\n",
    "    pdg1.append(cutTree['Pdg_ID'][event][hit])\n",
    "\n",
    "\n",
    "file = open('test0.dat', \"w\")\n",
    "for i in range(len(x1)):\n",
    "    file.write(str(x1[i]) + \", \" + str(y1[i]) + \", \" + str(z1[i]) + \"\\n\") \n",
    "file.close()\n"
   ]
  },
  {
   "cell_type": "code",
   "execution_count": 18,
   "metadata": {},
   "outputs": [],
   "source": [
    "file2 = 'skimmed_kaons/skimmed_events_pdg_hough.root'\n",
    "branches2 = ['ax','ay','az','bx','by','bz','nlines','hitX','hitY','hitZ','pdgID','pdg_assoc']\n",
    "\n",
    "# use uproot and load all of the data into a dictionary: {'leaf1': [data], 'leaf2': [data], ...}\n",
    "t2 = uproot.open(file2)['Events']\n",
    "table2 = t2.arrays(expressions=branches2, interpretation_executor=executor)\n",
    "\n",
    "# we store all of our data into the dictionary \"tree2\"\n",
    "tree2 = {}\n",
    "for branch2 in branches2:\n",
    "    tree2[branch2] = table2[branch2]\n",
    "\n",
    "file3 = 'skimmed_kaons/kaons_muons_hough.root'\n",
    "branches3 = ['ax','ay','az','bx','by','bz','nlines','hitX','hitY','hitZ','pdgID','pdg_assoc']\n",
    "\n",
    "# use uproot and load all of the data into a dictionary: {'leaf1': [data], 'leaf2': [data], ...}\n",
    "t3 = uproot.open(file3)['Events']\n",
    "table3 = t3.arrays(expressions=branches3, interpretation_executor=executor)\n",
    "\n",
    "# we store all of our data into the dictionary \"tree2\"\n",
    "tree3 = {}\n",
    "for branch3 in branches3:\n",
    "    tree3[branch3] = table3[branch3]"
   ]
  },
  {
   "cell_type": "code",
   "execution_count": 21,
   "metadata": {},
   "outputs": [
    {
     "name": "stdout",
     "output_type": "stream",
     "text": [
      "number of tracks with at least 3 kaon/muon hits: 23\n",
      "number of tracks: 85\n",
      "binning: [0.   0.05 0.1  0.15 0.2  0.25 0.3  0.35 0.4  0.45 0.5  0.55 0.6  0.65\n",
      " 0.7  0.75 0.8  0.85 0.9  0.95 1.  ]\n",
      "purities: [0.         0.6        0.         1.         0.         0.\n",
      " 0.         0.14285714 0.4        0.42857143 0.76923077 0.28571429\n",
      " 0.16666667 0.         0.5        0.33333333 0.83333333 0.2\n",
      " 0.5        0.         0.         0.2        0.         0.66666667\n",
      " 0.16666667 0.14285714 0.22222222 0.7        0.4        0.\n",
      " 0.63636364 0.28571429 0.         0.11111111 0.8        0.\n",
      " 0.         1.         0.84615385 0.         0.         0.71428571\n",
      " 0.         0.2        0.4        0.8        0.         0.\n",
      " 0.         0.88888889 0.         0.5        1.         0.88888889\n",
      " 0.         0.83333333 0.         0.11111111 1.         0.\n",
      " 0.         0.75       0.         0.         0.         1.\n",
      " 0.         0.         0.8        0.         0.875      0.\n",
      " 0.         0.25       0.25       0.         0.         0.5\n",
      " 0.         0.         0.5        0.         0.25       0.08333333\n",
      " 0.        ]\n"
     ]
    },
    {
     "data": {
      "text/plain": [
       "Text(0.5, 1.0, 'Purities of Hough-Fitted Tracks')"
      ]
     },
     "execution_count": 21,
     "metadata": {},
     "output_type": "execute_result"
    },
    {
     "data": {
      "image/png": "[encoded data removed]",
      "text/plain": [
       "<Figure size 432x288 with 1 Axes>"
      ]
     },
     "metadata": {
      "needs_background": "light"
     },
     "output_type": "display_data"
    }
   ],
   "source": [
    "# Plot the purity of the all tracks of all events\n",
    "purities = []\n",
    "threeKMTracks = []\n",
    "for event in range(len(tree2['pdg_assoc'])):\n",
    "    for track in range(len(tree2['pdg_assoc'][event])):\n",
    "        good = 0\n",
    "        total = 0\n",
    "\n",
    "        for particle in range(len(tree2['pdg_assoc'][event][track])):\n",
    "            total += 1 # increment number of particles in the track\n",
    "            if(abs(tree2['pdg_assoc'][event][track][particle]) == 321.0 or abs(tree2['pdg_assoc'][event][track][particle]) == 13.0):\n",
    "                good += 1 # increment number of kaons/muons in the track\n",
    "            \n",
    "        purity = good/total \n",
    "        purities.append(purity)\n",
    "        if good >= 3:\n",
    "            threeKMTracks.append(1)\n",
    "        else:\n",
    "            threeKMTracks.append(0)\n",
    "        \n",
    "\n",
    "print(\"number of tracks with at least 3 kaon/muon hits: {}\".format(sum(threeKMTracks)))\n",
    "\n",
    "purities = np.array(purities)\n",
    "bin_list = np.linspace(0,1,21)\n",
    "print(\"number of tracks: \" + str(len(purities)))\n",
    "print(\"binning: \" + str(bin_list))\n",
    "print(\"purities: \" + str(purities))\n",
    "\n",
    "plt.figure()\n",
    "plt.hist(purities,bins=bin_list,label=\"purities\")\n",
    "plt.xlabel('Purity')\n",
    "plt.ylabel('Number of Tracks')\n",
    "plt.title('Purities of Hough-Fitted Tracks')"
   ]
  },
  {
   "cell_type": "code",
   "execution_count": 22,
   "metadata": {},
   "outputs": [
    {
     "name": "stdout",
     "output_type": "stream",
     "text": [
      "14\n"
     ]
    },
    {
     "data": {
      "text/plain": [
       "Text(0.5, 1.0, 'Leftover Kaon/Muon Hits from Hough-Fitted Tracks')"
      ]
     },
     "execution_count": 22,
     "metadata": {},
     "output_type": "execute_result"
    },
    {
     "data": {
      "image/png": "[encoded data removed]",
      "text/plain": [
       "<Figure size 432x288 with 1 Axes>"
      ]
     },
     "metadata": {
      "needs_background": "light"
     },
     "output_type": "display_data"
    }
   ],
   "source": [
    "# Plot the amount of kaon/muon hits that were not associated with a track (per event)\n",
    "\n",
    "# Amount of kaon/muon hits in found tracks\n",
    "KM1 = []\n",
    "for event in range(len(tree2['pdg_assoc'])):\n",
    "    kaons1 = 0\n",
    "    muons1 = 0\n",
    "    for track in range(len(tree2['pdg_assoc'][event])):\n",
    "        for particle in range(len(tree2['pdg_assoc'][event][track])):\n",
    "            if(abs(tree2['pdg_assoc'][event][track][particle]) == 321.0):\n",
    "                kaons1 += 1\n",
    "            elif(abs(tree2['pdg_assoc'][event][track][particle]) == 13.0):\n",
    "                muons1 +=1\n",
    "    #print(\"Total amount of kaons associated with event {}: {}\".format(event,kaons1))\n",
    "    #print(\"Total amount of muons associated with event {}: {}\".format(event,muons1))\n",
    "    KM1.append(kaons1+muons1)\n",
    "#print(KM1)\n",
    "\n",
    "# Total amount of kaon/muon hits\n",
    "KM2 = []\n",
    "for event in range(len(tree2['pdgID'])):\n",
    "    kaons2 = 0\n",
    "    muons2 = 0\n",
    "    for hit in range(len(tree2['pdgID'][event])):\n",
    "        if (abs(tree2['pdgID'][event][hit]) == 321):\n",
    "            kaons2 += 1\n",
    "        if (abs(tree2['pdgID'][event][hit]) == 13):\n",
    "            muons2 += 1\n",
    "    #print(\"Total amount of kaons associated with event {}: {}\".format(event,kaons2))\n",
    "    #print(\"Total amount of muons associated with event {}: {}\".format(event,muons2))\n",
    "    KM2.append(kaons2+muons2)\n",
    "#print(KM2)\n",
    "\n",
    "KMdiff = np.array(KM2) - np.array(KM1)\n",
    "#print(\"Leftover kaon/muon hits per event: {}\".format(KMdiff))\n",
    "count = 0\n",
    "for event in range(len(KMdiff)):\n",
    "    if KMdiff[event] > 0:\n",
    "        count += 1\n",
    "print(count)\n",
    "\n",
    "\n",
    "bin_list = np.linspace(0,5,6)\n",
    "#print(bin_list)\n",
    "plt.figure()\n",
    "plt.hist(KMdiff,bins=bin_list)\n",
    "plt.xticks([0,1,2,3,4,5])\n",
    "plt.yticks(np.linspace(0,30,7))\n",
    "plt.xlabel('Number of leftover kaon/muon hits')\n",
    "plt.ylabel('Number of events')\n",
    "plt.title('Leftover Kaon/Muon Hits from Hough-Fitted Tracks')"
   ]
  },
  {
   "cell_type": "code",
   "execution_count": null,
   "metadata": {},
   "outputs": [
    {
     "name": "stdout",
     "output_type": "stream",
     "text": [
      "[0. 1. 2. 3. 4. 5.]\n"
     ]
    },
    {
     "data": {
      "image/png": "[encoded data removed]",
      "text/plain": [
       "<Figure size 432x288 with 1 Axes>"
      ]
     },
     "metadata": {
      "needs_background": "light"
     },
     "output_type": "display_data"
    }
   ],
   "source": [
    "# Plot the amount of tracks per event\n",
    "numTracks = []\n",
    "\n",
    "for event in range(len(tree2['pdg_assoc'])):\n",
    "    numTracks.append(len(tree2['pdg_assoc'][event]))\n",
    "\n",
    "numTracks = np.array(numTracks)\n",
    "#print(numTracks)\n",
    "bin_list = np.linspace(0,5,6)\n",
    "print(bin_list)\n",
    "\n",
    "plt.figure()\n",
    "plt.hist(numTracks)\n",
    "plt.xlabel('Number of tracks')\n",
    "plt.ylabel('Number of events')\n",
    "plt.xticks(np.linspace(0,5,6))\n",
    "plt.title('Number of tracks per event')\n",
    "plt.show()\n"
   ]
  },
  {
   "cell_type": "code",
   "execution_count": 25,
   "metadata": {},
   "outputs": [
    {
     "name": "stdout",
     "output_type": "stream",
     "text": [
      "event: 0\n",
      "original # of hits: 46, cut # of hits: 31\n",
      "(Scatter3d({\n",
      "    'hovertemplate': ('color=electon trajectory<br>X ' ... '<br>Z (mm)=%{z}<extra></extra>'),\n",
      "    'legendgroup': 'electon trajectory',\n",
      "    'line': {'color': '#636efa', 'dash': 'solid'},\n",
      "    'marker': {'symbol': 'circle'},\n",
      "    'mode': 'lines',\n",
      "    'name': 'electon trajectory',\n",
      "    'scene': 'scene',\n",
      "    'showlegend': True,\n",
      "    'x': array([-11.80636857, -12.03805022, -12.59493639, -12.8967602 , -13.5110354 ,\n",
      "                -13.8766248 , -14.544038  , -14.93088259, -15.59829579, -15.98514038,\n",
      "                -16.65255358, -17.03939817, -17.70681137, -18.09365596, -18.76106916,\n",
      "                -19.14791375, -19.81532695, -20.20217154, -20.86958474, -21.25642934,\n",
      "                -21.92384253, -22.31068713, -22.97810033, -23.36494492, -24.1811445 ,\n",
      "                -24.71677547, -25.53297505, -26.06860603, -26.88480561, -27.42043658,\n",
      "                -28.23663616, -28.77226714, -29.58846672, -30.12409769]),\n",
      "    'y': array([-2.23791392, -2.22329768, -2.18816504, -2.1691237 , -2.13037052,\n",
      "                -2.10730635, -2.06520083, -2.04079572, -1.9986902 , -1.97428509,\n",
      "                -1.93217957, -1.90777446, -1.86566894, -1.84126383, -1.79915831,\n",
      "                -1.7747532 , -1.73264768, -1.70824257, -1.66613705, -1.64173194,\n",
      "                -1.59962642, -1.57522131, -1.53311579, -1.50871068, -1.45721858,\n",
      "                -1.42342688, -1.37193478, -1.33814309, -1.28665099, -1.2528593 ,\n",
      "                -1.2013672 , -1.1675755 , -1.1160834 , -1.08229171]),\n",
      "    'z': array([248.35050354, 253.80050354, 266.90050354, 274.00050354, 288.45050354,\n",
      "                297.05050354, 312.75050354, 321.85050354, 337.55050354, 346.65050354,\n",
      "                362.35050354, 371.45050354, 387.15050354, 396.25050354, 411.95050354,\n",
      "                421.05050354, 436.75050354, 445.85050354, 461.55050354, 470.65050354,\n",
      "                486.35050354, 495.45050354, 511.15050354, 520.25050354, 539.45050354,\n",
      "                552.05050354, 571.25050354, 583.85050354, 603.05050354, 615.65050354,\n",
      "                634.85050354, 647.45050354, 666.65050354, 679.25050354])\n",
      "}),)\n"
     ]
    },
    {
     "data": {
      "application/vnd.plotly.v1+json": {
       "config": {
        "plotlyServerURL": "https://plot.ly"
       },
       "data": [
        {
         "hovertemplate": "Particle=positron<br>X (mm)=%{x}<br>Y (mm)=%{y}<br>Z (mm)=%{z}<extra></extra>",
         "legendgroup": "positron",
         "marker": {
          "color": "#636efa",
          "size": 2,
          "symbol": "circle"
         },
         "mode": "markers",
         "name": "positron",
         "scene": "scene",
         "showlegend": true,
         "type": "scatter3d",
         "x": [
          -8.341320991516113,
          -8.341320991516113,
          -8.341320991516113,
          -16.682641983032227,
          -25.023963928222656,
          -16.682641983032227,
          -25.023963928222656,
          -12.511981964111328
         ],
         "y": [
          4.815864086151123,
          -9.631728172302246,
          -24.079320907592773,
          -9.631728172302246,
          -9.631728172302246,
          -9.631728172302246,
          4.815864086151123,
          -16.85552406311035
         ],
         "z": [
          346.6499938964844,
          362.3500061035156,
          337.54998779296875,
          321.8500061035156,
          321.8500061035156,
          337.54998779296875,
          337.54998779296875,
          337.54998779296875
         ]
        },
        {
         "hovertemplate": "Particle=electron<br>X (mm)=%{x}<br>Y (mm)=%{y}<br>Z (mm)=%{z}<extra></extra>",
         "legendgroup": "electron",
         "marker": {
          "color": "#EF553B",
          "size": 2,
          "symbol": "circle"
         },
         "mode": "markers",
         "name": "electron",
         "scene": "scene",
         "showlegend": true,
         "type": "scatter3d",
         "x": [
          -4.170660495758057,
          -20.853302001953125,
          12.511981964111328,
          -12.511981964111328,
          -8.341320991516113,
          2.6645352591003757e-15,
          70.90122985839844,
          79.2425537109375,
          -41.70660400390625,
          -25.023963928222656,
          -62.55990982055664,
          -41.70660400390625,
          -4.170660495758057,
          -16.682641983032227,
          -16.682641983032227,
          -4.170660495758057,
          -25.023963928222656,
          -16.682641983032227,
          -8.341320991516113
         ],
         "y": [
          -60.198299407958984,
          -16.85552406311035,
          12.039660453796387,
          -16.85552406311035,
          -24.079320907592773,
          -24.079320907592773,
          -16.85552406311035,
          -16.85552406311035,
          -38.526912689208984,
          33.7110481262207,
          -16.85552406311035,
          -38.526912689208984,
          -2.4079320430755615,
          -9.631728172302246,
          -9.631728172302246,
          26.48725128173828,
          -24.079320907592773,
          -9.631728172302246,
          -9.631728172302246
         ],
         "z": [
          266.8999938964844,
          346.6499938964844,
          337.54998779296875,
          371.45001220703125,
          371.45001220703125,
          346.6499938964844,
          371.45001220703125,
          371.45001220703125,
          387.1499938964844,
          387.1499938964844,
          436.75,
          470.6499938964844,
          288.45001220703125,
          297.04998779296875,
          312.75,
          288.45001220703125,
          321.8500061035156,
          346.6499938964844,
          346.6499938964844
         ]
        },
        {
         "hovertemplate": "Particle=other<br>X (mm)=%{x}<br>Y (mm)=%{y}<br>Z (mm)=%{z}<extra></extra>",
         "legendgroup": "other",
         "marker": {
          "color": "#00cc96",
          "size": 2,
          "symbol": "circle"
         },
         "mode": "markers",
         "name": "other",
         "scene": "scene",
         "showlegend": true,
         "type": "scatter3d",
         "x": [
          -20.853302001953125
         ],
         "y": [
          55.3824348449707
         ],
         "z": [
          266.8999938964844
         ]
        },
        {
         "hovertemplate": "Particle=muon<br>X (mm)=%{x}<br>Y (mm)=%{y}<br>Z (mm)=%{z}<extra></extra>",
         "legendgroup": "muon",
         "marker": {
          "color": "#ab63fa",
          "size": 2,
          "symbol": "circle"
         },
         "mode": "markers",
         "name": "muon",
         "scene": "scene",
         "showlegend": true,
         "type": "scatter3d",
         "x": [
          -4.170660495758057,
          2.6645352591003757e-15,
          8.341320991516113
         ],
         "y": [
          -2.4079320430755615,
          4.815864086151123,
          4.815864086151123
         ],
         "z": [
          297.04998779296875,
          312.75,
          321.8500061035156
         ]
        },
        {
         "hovertemplate": "color=electon trajectory<br>X (mm)=%{x}<br>Y (mm)=%{y}<br>Z (mm)=%{z}<extra></extra>",
         "legendgroup": "electon trajectory",
         "line": {
          "color": "#636efa",
          "dash": "solid"
         },
         "marker": {
          "symbol": "circle"
         },
         "mode": "lines",
         "name": "electon trajectory",
         "scene": "scene",
         "showlegend": true,
         "type": "scatter3d",
         "x": [
          -11.806368571237005,
          -12.038050222904715,
          -12.59493639480325,
          -12.896760197893295,
          -13.51103540277374,
          -13.876624798065908,
          -14.544037996448122,
          -14.930882589140996,
          -15.59829578752321,
          -15.985140380216084,
          -16.652553578598297,
          -17.03939817129117,
          -17.706811369673385,
          -18.09365596236626,
          -18.761069160748473,
          -19.14791375344135,
          -19.81532695182356,
          -20.20217154451644,
          -20.869584742898653,
          -21.256429335591527,
          -21.923842533973737,
          -22.310687126666615,
          -22.978100325048825,
          -23.364944917741703,
          -24.181144497928866,
          -24.716775472426693,
          -25.532975052613857,
          -26.068606027111684,
          -26.88480560729885,
          -27.42043658179668,
          -28.236636161983842,
          -28.77226713648167,
          -29.588466716668833,
          -30.12409769116666
         ],
         "y": [
          -2.237913924154606,
          -2.2232976766363644,
          -2.1881650449870134,
          -2.169123695009121,
          -2.1303705249836917,
          -2.1073063545879345,
          -2.0652008342142847,
          -2.0407957236792393,
          -1.99869020330559,
          -1.9742850927705444,
          -1.9321795723968949,
          -1.9077744618618495,
          -1.8656689414881997,
          -1.8412638309531544,
          -1.7991583105795048,
          -1.7747532000444595,
          -1.73264767967081,
          -1.7082425691357646,
          -1.6661370487621148,
          -1.6417319382270694,
          -1.5996264178534196,
          -1.5752213073183743,
          -1.533115786944725,
          -1.5087106764096794,
          -1.4572185750610123,
          -1.4234268835509494,
          -1.3719347822022825,
          -1.3381430906922196,
          -1.2866509893435523,
          -1.2528592978334898,
          -1.2013671964848225,
          -1.1675755049747598,
          -1.1160834036260927,
          -1.0822917121160298
         ],
         "z": [
          248.35050354003906,
          253.80050354003907,
          266.90050354003904,
          274.00050354003906,
          288.45050354003905,
          297.0505035400391,
          312.75050354003906,
          321.8505035400391,
          337.5505035400391,
          346.65050354003904,
          362.3505035400391,
          371.45050354003905,
          387.15050354003904,
          396.25050354003906,
          411.95050354003905,
          421.0505035400391,
          436.75050354003906,
          445.8505035400391,
          461.5505035400391,
          470.65050354003904,
          486.3505035400391,
          495.45050354003905,
          511.15050354003904,
          520.2505035400391,
          539.4505035400391,
          552.050503540039,
          571.2505035400391,
          583.8505035400391,
          603.050503540039,
          615.650503540039,
          634.8505035400391,
          647.4505035400391,
          666.650503540039,
          679.2505035400391
         ]
        }
       ],
       "layout": {
        "autosize": false,
        "margin": {
         "b": 10,
         "l": 10,
         "r": 20,
         "t": 10
        },
        "scene": {
         "xaxis": {
          "nticks": 6,
          "range": [
           -200,
           200
          ]
         },
         "yaxis": {
          "nticks": 10,
          "range": [
           -200,
           200
          ]
         },
         "zaxis": {
          "nticks": 10,
          "range": [
           240,
           700
          ]
         }
        },
        "template": {
         "data": {
          "bar": [
           {
            "error_x": {
             "color": "#2a3f5f"
            },
            "error_y": {
             "color": "#2a3f5f"
            },
            "marker": {
             "line": {
              "color": "#E5ECF6",
              "width": 0.5
             },
             "pattern": {
              "fillmode": "overlay",
              "size": 10,
              "solidity": 0.2
             }
            },
            "type": "bar"
           }
          ],
          "barpolar": [
           {
            "marker": {
             "line": {
              "color": "#E5ECF6",
              "width": 0.5
             },
             "pattern": {
              "fillmode": "overlay",
              "size": 10,
              "solidity": 0.2
             }
            },
            "type": "barpolar"
           }
          ],
          "carpet": [
           {
            "aaxis": {
             "endlinecolor": "#2a3f5f",
             "gridcolor": "white",
             "linecolor": "white",
             "minorgridcolor": "white",
             "startlinecolor": "#2a3f5f"
            },
            "baxis": {
             "endlinecolor": "#2a3f5f",
             "gridcolor": "white",
             "linecolor": "white",
             "minorgridcolor": "white",
             "startlinecolor": "#2a3f5f"
            },
            "type": "carpet"
           }
          ],
          "choropleth": [
           {
            "colorbar": {
             "outlinewidth": 0,
             "ticks": ""
            },
            "type": "choropleth"
           }
          ],
          "contour": [
           {
            "colorbar": {
             "outlinewidth": 0,
             "ticks": ""
            },
            "colorscale": [
             [
              0,
              "#0d0887"
             ],
             [
              0.1111111111111111,
              "#46039f"
             ],
             [
              0.2222222222222222,
              "#7201a8"
             ],
             [
              0.3333333333333333,
              "#9c179e"
             ],
             [
              0.4444444444444444,
              "#bd3786"
             ],
             [
              0.5555555555555556,
              "#d8576b"
             ],
             [
              0.6666666666666666,
              "#ed7953"
             ],
             [
              0.7777777777777778,
              "#fb9f3a"
             ],
             [
              0.8888888888888888,
              "#fdca26"
             ],
             [
              1,
              "#f0f921"
             ]
            ],
            "type": "contour"
           }
          ],
          "contourcarpet": [
           {
            "colorbar": {
             "outlinewidth": 0,
             "ticks": ""
            },
            "type": "contourcarpet"
           }
          ],
          "heatmap": [
           {
            "colorbar": {
             "outlinewidth": 0,
             "ticks": ""
            },
            "colorscale": [
             [
              0,
              "#0d0887"
             ],
             [
              0.1111111111111111,
              "#46039f"
             ],
             [
              0.2222222222222222,
              "#7201a8"
             ],
             [
              0.3333333333333333,
              "#9c179e"
             ],
             [
              0.4444444444444444,
              "#bd3786"
             ],
             [
              0.5555555555555556,
              "#d8576b"
             ],
             [
              0.6666666666666666,
              "#ed7953"
             ],
             [
              0.7777777777777778,
              "#fb9f3a"
             ],
             [
              0.8888888888888888,
              "#fdca26"
             ],
             [
              1,
              "#f0f921"
             ]
            ],
            "type": "heatmap"
           }
          ],
          "heatmapgl": [
           {
            "colorbar": {
             "outlinewidth": 0,
             "ticks": ""
            },
            "colorscale": [
             [
              0,
              "#0d0887"
             ],
             [
              0.1111111111111111,
              "#46039f"
             ],
             [
              0.2222222222222222,
              "#7201a8"
             ],
             [
              0.3333333333333333,
              "#9c179e"
             ],
             [
              0.4444444444444444,
              "#bd3786"
             ],
             [
              0.5555555555555556,
              "#d8576b"
             ],
             [
              0.6666666666666666,
              "#ed7953"
             ],
             [
              0.7777777777777778,
              "#fb9f3a"
             ],
             [
              0.8888888888888888,
              "#fdca26"
             ],
             [
              1,
              "#f0f921"
             ]
            ],
            "type": "heatmapgl"
           }
          ],
          "histogram": [
           {
            "marker": {
             "pattern": {
              "fillmode": "overlay",
              "size": 10,
              "solidity": 0.2
             }
            },
            "type": "histogram"
           }
          ],
          "histogram2d": [
           {
            "colorbar": {
             "outlinewidth": 0,
             "ticks": ""
            },
            "colorscale": [
             [
              0,
              "#0d0887"
             ],
             [
              0.1111111111111111,
              "#46039f"
             ],
             [
              0.2222222222222222,
              "#7201a8"
             ],
             [
              0.3333333333333333,
              "#9c179e"
             ],
             [
              0.4444444444444444,
              "#bd3786"
             ],
             [
              0.5555555555555556,
              "#d8576b"
             ],
             [
              0.6666666666666666,
              "#ed7953"
             ],
             [
              0.7777777777777778,
              "#fb9f3a"
             ],
             [
              0.8888888888888888,
              "#fdca26"
             ],
             [
              1,
              "#f0f921"
             ]
            ],
            "type": "histogram2d"
           }
          ],
          "histogram2dcontour": [
           {
            "colorbar": {
             "outlinewidth": 0,
             "ticks": ""
            },
            "colorscale": [
             [
              0,
              "#0d0887"
             ],
             [
              0.1111111111111111,
              "#46039f"
             ],
             [
              0.2222222222222222,
              "#7201a8"
             ],
             [
              0.3333333333333333,
              "#9c179e"
             ],
             [
              0.4444444444444444,
              "#bd3786"
             ],
             [
              0.5555555555555556,
              "#d8576b"
             ],
             [
              0.6666666666666666,
              "#ed7953"
             ],
             [
              0.7777777777777778,
              "#fb9f3a"
             ],
             [
              0.8888888888888888,
              "#fdca26"
             ],
             [
              1,
              "#f0f921"
             ]
            ],
            "type": "histogram2dcontour"
           }
          ],
          "mesh3d": [
           {
            "colorbar": {
             "outlinewidth": 0,
             "ticks": ""
            },
            "type": "mesh3d"
           }
          ],
          "parcoords": [
           {
            "line": {
             "colorbar": {
              "outlinewidth": 0,
              "ticks": ""
             }
            },
            "type": "parcoords"
           }
          ],
          "pie": [
           {
            "automargin": true,
            "type": "pie"
           }
          ],
          "scatter": [
           {
            "fillpattern": {
             "fillmode": "overlay",
             "size": 10,
             "solidity": 0.2
            },
            "type": "scatter"
           }
          ],
          "scatter3d": [
           {
            "line": {
             "colorbar": {
              "outlinewidth": 0,
              "ticks": ""
             }
            },
            "marker": {
             "colorbar": {
              "outlinewidth": 0,
              "ticks": ""
             }
            },
            "type": "scatter3d"
           }
          ],
          "scattercarpet": [
           {
            "marker": {
             "colorbar": {
              "outlinewidth": 0,
              "ticks": ""
             }
            },
            "type": "scattercarpet"
           }
          ],
          "scattergeo": [
           {
            "marker": {
             "colorbar": {
              "outlinewidth": 0,
              "ticks": ""
             }
            },
            "type": "scattergeo"
           }
          ],
          "scattergl": [
           {
            "marker": {
             "colorbar": {
              "outlinewidth": 0,
              "ticks": ""
             }
            },
            "type": "scattergl"
           }
          ],
          "scattermapbox": [
           {
            "marker": {
             "colorbar": {
              "outlinewidth": 0,
              "ticks": ""
             }
            },
            "type": "scattermapbox"
           }
          ],
          "scatterpolar": [
           {
            "marker": {
             "colorbar": {
              "outlinewidth": 0,
              "ticks": ""
             }
            },
            "type": "scatterpolar"
           }
          ],
          "scatterpolargl": [
           {
            "marker": {
             "colorbar": {
              "outlinewidth": 0,
              "ticks": ""
             }
            },
            "type": "scatterpolargl"
           }
          ],
          "scatterternary": [
           {
            "marker": {
             "colorbar": {
              "outlinewidth": 0,
              "ticks": ""
             }
            },
            "type": "scatterternary"
           }
          ],
          "surface": [
           {
            "colorbar": {
             "outlinewidth": 0,
             "ticks": ""
            },
            "colorscale": [
             [
              0,
              "#0d0887"
             ],
             [
              0.1111111111111111,
              "#46039f"
             ],
             [
              0.2222222222222222,
              "#7201a8"
             ],
             [
              0.3333333333333333,
              "#9c179e"
             ],
             [
              0.4444444444444444,
              "#bd3786"
             ],
             [
              0.5555555555555556,
              "#d8576b"
             ],
             [
              0.6666666666666666,
              "#ed7953"
             ],
             [
              0.7777777777777778,
              "#fb9f3a"
             ],
             [
              0.8888888888888888,
              "#fdca26"
             ],
             [
              1,
              "#f0f921"
             ]
            ],
            "type": "surface"
           }
          ],
          "table": [
           {
            "cells": {
             "fill": {
              "color": "#EBF0F8"
             },
             "line": {
              "color": "white"
             }
            },
            "header": {
             "fill": {
              "color": "#C8D4E3"
             },
             "line": {
              "color": "white"
             }
            },
            "type": "table"
           }
          ]
         },
         "layout": {
          "annotationdefaults": {
           "arrowcolor": "#2a3f5f",
           "arrowhead": 0,
           "arrowwidth": 1
          },
          "autotypenumbers": "strict",
          "coloraxis": {
           "colorbar": {
            "outlinewidth": 0,
            "ticks": ""
           }
          },
          "colorscale": {
           "diverging": [
            [
             0,
             "#8e0152"
            ],
            [
             0.1,
             "#c51b7d"
            ],
            [
             0.2,
             "#de77ae"
            ],
            [
             0.3,
             "#f1b6da"
            ],
            [
             0.4,
             "#fde0ef"
            ],
            [
             0.5,
             "#f7f7f7"
            ],
            [
             0.6,
             "#e6f5d0"
            ],
            [
             0.7,
             "#b8e186"
            ],
            [
             0.8,
             "#7fbc41"
            ],
            [
             0.9,
             "#4d9221"
            ],
            [
             1,
             "#276419"
            ]
           ],
           "sequential": [
            [
             0,
             "#0d0887"
            ],
            [
             0.1111111111111111,
             "#46039f"
            ],
            [
             0.2222222222222222,
             "#7201a8"
            ],
            [
             0.3333333333333333,
             "#9c179e"
            ],
            [
             0.4444444444444444,
             "#bd3786"
            ],
            [
             0.5555555555555556,
             "#d8576b"
            ],
            [
             0.6666666666666666,
             "#ed7953"
            ],
            [
             0.7777777777777778,
             "#fb9f3a"
            ],
            [
             0.8888888888888888,
             "#fdca26"
            ],
            [
             1,
             "#f0f921"
            ]
           ],
           "sequentialminus": [
            [
             0,
             "#0d0887"
            ],
            [
             0.1111111111111111,
             "#46039f"
            ],
            [
             0.2222222222222222,
             "#7201a8"
            ],
            [
             0.3333333333333333,
             "#9c179e"
            ],
            [
             0.4444444444444444,
             "#bd3786"
            ],
            [
             0.5555555555555556,
             "#d8576b"
            ],
            [
             0.6666666666666666,
             "#ed7953"
            ],
            [
             0.7777777777777778,
             "#fb9f3a"
            ],
            [
             0.8888888888888888,
             "#fdca26"
            ],
            [
             1,
             "#f0f921"
            ]
           ]
          },
          "colorway": [
           "#636efa",
           "#EF553B",
           "#00cc96",
           "#ab63fa",
           "#FFA15A",
           "#19d3f3",
           "#FF6692",
           "#B6E880",
           "#FF97FF",
           "#FECB52"
          ],
          "font": {
           "color": "#2a3f5f"
          },
          "geo": {
           "bgcolor": "white",
           "lakecolor": "white",
           "landcolor": "#E5ECF6",
           "showlakes": true,
           "showland": true,
           "subunitcolor": "white"
          },
          "hoverlabel": {
           "align": "left"
          },
          "hovermode": "closest",
          "mapbox": {
           "style": "light"
          },
          "paper_bgcolor": "white",
          "plot_bgcolor": "#E5ECF6",
          "polar": {
           "angularaxis": {
            "gridcolor": "white",
            "linecolor": "white",
            "ticks": ""
           },
           "bgcolor": "#E5ECF6",
           "radialaxis": {
            "gridcolor": "white",
            "linecolor": "white",
            "ticks": ""
           }
          },
          "scene": {
           "xaxis": {
            "backgroundcolor": "#E5ECF6",
            "gridcolor": "white",
            "gridwidth": 2,
            "linecolor": "white",
            "showbackground": true,
            "ticks": "",
            "zerolinecolor": "white"
           },
           "yaxis": {
            "backgroundcolor": "#E5ECF6",
            "gridcolor": "white",
            "gridwidth": 2,
            "linecolor": "white",
            "showbackground": true,
            "ticks": "",
            "zerolinecolor": "white"
           },
           "zaxis": {
            "backgroundcolor": "#E5ECF6",
            "gridcolor": "white",
            "gridwidth": 2,
            "linecolor": "white",
            "showbackground": true,
            "ticks": "",
            "zerolinecolor": "white"
           }
          },
          "shapedefaults": {
           "line": {
            "color": "#2a3f5f"
           }
          },
          "ternary": {
           "aaxis": {
            "gridcolor": "white",
            "linecolor": "white",
            "ticks": ""
           },
           "baxis": {
            "gridcolor": "white",
            "linecolor": "white",
            "ticks": ""
           },
           "bgcolor": "#E5ECF6",
           "caxis": {
            "gridcolor": "white",
            "linecolor": "white",
            "ticks": ""
           }
          },
          "title": {
           "x": 0.05
          },
          "xaxis": {
           "automargin": true,
           "gridcolor": "white",
           "linecolor": "white",
           "ticks": "",
           "title": {
            "standoff": 15
           },
           "zerolinecolor": "white",
           "zerolinewidth": 2
          },
          "yaxis": {
           "automargin": true,
           "gridcolor": "white",
           "linecolor": "white",
           "ticks": "",
           "title": {
            "standoff": 15
           },
           "zerolinecolor": "white",
           "zerolinewidth": 2
          }
         }
        },
        "xaxis": {
         "range": [
          -200,
          200
         ]
        },
        "yaxis": {
         "range": [
          -200,
          200
         ]
        }
       }
      }
     },
     "metadata": {},
     "output_type": "display_data"
    },
    {
     "name": "stdout",
     "output_type": "stream",
     "text": [
      "SUMMARY:\n",
      "Number of Hits: 31\n",
      "-> Kaons: 0\n",
      "-> Muons: 3\n",
      "-> Electrons: 19\n",
      "-> Positrons: 8\n",
      "-> Others: 1\n"
     ]
    }
   ],
   "source": [
    "# Plot all of the points and trajectories (FOR DEBUGGING PURPOSES)\n",
    "import plotly.graph_objects as go\n",
    "import plotly.express as px\n",
    "import copy\n",
    "\n",
    "x_vals = []\n",
    "y_vals = []\n",
    "z_vals = []\n",
    "pdg_vals = []\n",
    "\n",
    "# set the event number\n",
    "event = 0\n",
    "\n",
    "print(\"event: \" + str(event))\n",
    "print(\"original # of hits: {}, cut # of hits: {}\".format(len(tree['EcalRecHits_v3_v12/EcalRecHits_v3_v12.xpos_'][event]), len(cutTree['EcalRecHits_v3_v12/EcalRecHits_v3_v12.xpos_'][event])))\n",
    "#print(\"pdgID: \" + str(cutTree['Pdg_ID'][event]))\n",
    "\n",
    "cutTree['Particle'] = copy.deepcopy(cutTree['Pdg_ID'])\n",
    "\n",
    "# convert pdg IDs to colors\n",
    "for hit in range(len(cutTree['Pdg_ID'][event])):\n",
    "    if cutTree['Pdg_ID'][event][hit] == 11: # e-\n",
    "        cutTree['Particle'][event][hit] = 'electron'\n",
    "    elif cutTree['Pdg_ID'][event][hit] == -11: # e+\n",
    "        cutTree['Particle'][event][hit] = 'positron'\n",
    "    elif cutTree['Pdg_ID'][event][hit] == -13: # mu-\n",
    "        cutTree['Particle'][event][hit] = 'muon'\n",
    "    elif cutTree['Pdg_ID'][event][hit] == 13: # mu+\n",
    "        cutTree['Particle'][event][hit] = 'muon'\n",
    "    elif cutTree['Pdg_ID'][event][hit] == 321: # K+\n",
    "        cutTree['Particle'][event][hit] = 'kaon'\n",
    "    elif cutTree['Pdg_ID'][event][hit] == -321: # K-\n",
    "        cutTree['Particle'][event][hit] = 'kaon'\n",
    "    else:\n",
    "        cutTree['Particle'][event][hit] = 'other'\n",
    "\n",
    "#print(\"colorID: \" + str(cutTree['colorID'][event]))\n",
    "#print(\"pdgID: \" + str(cutTree['Pdg_ID'][event]))\n",
    "\n",
    "\n",
    "# store all of the position values\n",
    "for hit in range(len(cutTree['EcalRecHits_v3_v12/EcalRecHits_v3_v12.xpos_'][event])):\n",
    "    x_vals.append(cutTree['EcalRecHits_v3_v12/EcalRecHits_v3_v12.xpos_'][event][hit])\n",
    "    y_vals.append(cutTree['EcalRecHits_v3_v12/EcalRecHits_v3_v12.ypos_'][event][hit])\n",
    "    z_vals.append(cutTree['EcalRecHits_v3_v12/EcalRecHits_v3_v12.zpos_'][event][hit])\n",
    "    pdg_vals.append(cutTree['Particle'][event][hit])\n",
    "        \n",
    "df = {}\n",
    "df['x'] = x_vals\n",
    "df['y'] = y_vals\n",
    "df['z'] = z_vals\n",
    "df['Particle'] = pdg_vals\n",
    "#print(\"pdg_vals: \" + str(pdg_vals))\n",
    "\n",
    "eLayerIntercepts = []\n",
    "intercept = (trajectories['etraj_sp'][event][0] + layer_dz*trajectories['enorm_sp'][event][0], \n",
    "            trajectories['etraj_sp'][event][1] + layer_dz*trajectories['enorm_sp'][event][1], \n",
    "            trajectories['etraj_sp'][event][2] + layer_dz*trajectories['enorm_sp'][event][2])\n",
    "eLayerIntercepts.append(intercept)\n",
    "eLayerIntercepts = np.concatenate(np.array(eLayerIntercepts))\n",
    "#print(eLayerIntercepts)\n",
    "\n",
    "# radii of containment (don't need to index the event for these because all of the eLayerIntercepts are already for the nth event)\n",
    "\n",
    "figs = []\n",
    "\n",
    "TREE = tree3 # root file to load: tree2 or tree3 (tree2 is the root file without cuts yet, tree3 is the root file with cut1)\n",
    "\n",
    "for hit in range(len(TREE['ax'][event])):\n",
    "    hough = {}\n",
    "    houghX = []\n",
    "    houghY = []\n",
    "    houghZ = []\n",
    "    # anchor point\n",
    "    anchor = (TREE['ax'][event][hit],TREE['ay'][event][hit],TREE['az'][event][hit])\n",
    "    houghX.append(anchor[0])\n",
    "    houghY.append(anchor[1])\n",
    "    houghZ.append(anchor[2])\n",
    "    # positive half\n",
    "    linePos = (anchor[0] + 100*TREE['bx'][event][hit],anchor[1] + 100*TREE['by'][event][hit],anchor[2] + 100*TREE['bz'][event][hit])\n",
    "    houghX.append(linePos[0])\n",
    "    houghY.append(linePos[1])\n",
    "    houghZ.append(linePos[2])\n",
    "    # negative half\n",
    "    lineNeg = (anchor[0] - 100*TREE['bx'][event][hit],anchor[1] - 100*TREE['by'][event][hit],anchor[2] - 100*TREE['bz'][event][hit])\n",
    "    houghX.append(lineNeg[0])\n",
    "    houghY.append(lineNeg[1])\n",
    "    houghZ.append(lineNeg[2])\n",
    "    hough['houghX'] = houghX\n",
    "    hough['houghY'] = houghY\n",
    "    hough['houghZ'] = houghZ\n",
    "    figH = px.line_3d(hough, x='houghX', y ='houghY', z ='houghZ')\n",
    "    figs.append(figH)\n",
    "'''\n",
    "for layer in range(34):\n",
    "    circle = {}\n",
    "    radius = radius_beam_68[layer]\n",
    "    centerX = eLayerIntercepts[0][layer]\n",
    "    centerY = eLayerIntercepts[1][layer]\n",
    "    centerZ = eLayerIntercepts[2][layer]\n",
    "    theta = np.linspace(0, 2*np.pi, 360)\n",
    "    circle['circleX'] = radius * np.cos(theta) + centerX\n",
    "    circle['circleY'] = radius * np.sin(theta) + centerY\n",
    "    circle['circleZ'] = np.zeros(360) + centerZ\n",
    "    figC = px.line_3d(circle, x='circleX', y='circleY', z='circleZ')\n",
    "    figs.append(figC)\n",
    "'''\n",
    "fig1 = px.scatter_3d(df,x='x', y='y', z='z', color='Particle', labels={\n",
    "                     \"x\": \"X (mm)\",\n",
    "                     \"y\": \"Y (mm)\",\n",
    "                     \"z\": \"Z (mm)\"\n",
    "                    }, width=700,height=700)\n",
    "\n",
    "# electron trajectory\n",
    "fig2 = px.line_3d(traj, x=\"trajx\", y=\"trajy\", z=\"trajz\", color = 'color', labels={\n",
    "                     \"trajx\": \"X (mm)\",\n",
    "                     \"trajy\": \"Y (mm)\",\n",
    "                     \"trajz\": \"Z (mm)\"})\n",
    "\n",
    "figData = ()\n",
    "for fig in figs:\n",
    "    figData += fig.data\n",
    "\n",
    "fig3 = go.Figure(data=fig1.data + fig2.data + figData)\n",
    "print(fig2.data)\n",
    "fig3.update_xaxes(range=[-200, 200])\n",
    "fig3.update_yaxes(range=[-200, 200])\n",
    "fig3.update_layout(\n",
    "    scene = dict(\n",
    "        xaxis = dict(nticks=6, range=[-200,200],),\n",
    "                     yaxis = dict(nticks=10, range=[-200,200],),\n",
    "                     zaxis = dict(nticks=10, range=[240,700],),),\n",
    "    autosize=False,\n",
    "    margin=dict(r=20, l=10, b=10, t=10))\n",
    "fig3.update_traces(marker=dict(size=2),selector=dict(mode='markers'))\n",
    "\n",
    "\n",
    "fig3.show()\n",
    "#print(\"pdgID: \" + str(cutTree['Pdg_ID'][event]))\n",
    "\n",
    "nKaons = 0\n",
    "nMuons = 0\n",
    "nElectrons = 0\n",
    "nPositrons = 0\n",
    "nOthers = 0\n",
    "for pdgID in cutTree['Pdg_ID'][event]:\n",
    "    if(pdgID == 11): nElectrons +=1\n",
    "    elif(pdgID == -11): nPositrons +=1\n",
    "    elif(pdgID == 13 or pdgID == -13): nMuons +=1\n",
    "    elif(pdgID == 321 or pdgID == -321): nKaons +=1\n",
    "    else: nOthers +=1\n",
    "\n",
    "print(\"SUMMARY:\")\n",
    "print(\"Number of Hits: {}\".format(nKaons + nMuons + nElectrons + nPositrons + nOthers))\n",
    "print(\"-> Kaons: {}\".format(nKaons))\n",
    "print(\"-> Muons: {}\".format(nMuons))\n",
    "print(\"-> Electrons: {}\".format(nElectrons))\n",
    "print(\"-> Positrons: {}\".format(nPositrons))\n",
    "print(\"-> Others: {}\".format(nOthers))\n",
    "\n",
    "nKaons = 0\n",
    "nMuons = 0\n",
    "nElectrons = 0\n",
    "nPositrons = 0\n",
    "nOthers = 0\n",
    "\n",
    "# events that are super hard: 5,9\n"
   ]
  }
 ],
 "metadata": {
  "kernelspec": {
   "display_name": "Python 3.8.5 ('base')",
   "language": "python",
   "name": "python3"
  },
  "language_info": {
   "codemirror_mode": {
    "name": "ipython",
    "version": 3
   },
   "file_extension": ".py",
   "mimetype": "text/x-python",
   "name": "python",
   "nbconvert_exporter": "python",
   "pygments_lexer": "ipython3",
   "version": "3.8.5"
  },
  "orig_nbformat": 4,
  "vscode": {
   "interpreter": {
    "hash": "00797aeb65c0fcee01712f65908ca620cd9ba7fea561defde96507d75212ab0d"
   }
  }
 },
 "nbformat": 4,
 "nbformat_minor": 2
}
